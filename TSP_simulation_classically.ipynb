{
 "cells": [
  {
   "cell_type": "code",
   "execution_count": 1,
   "id": "d5ca83f1",
   "metadata": {},
   "outputs": [],
   "source": [
    "import numpy as np\n",
    "import networkx as nx\n",
    "import matplotlib.pyplot as plt\n",
    "\n",
    "\n",
    "from qiskit_optimization.applications import Tsp"
   ]
  },
  {
   "cell_type": "code",
   "execution_count": 2,
   "id": "04eb5f9b",
   "metadata": {},
   "outputs": [],
   "source": [
    "def draw_graph(G, colors, pos):\n",
    "    default_axes = plt.axes(frameon=True)\n",
    "    nx.draw_networkx(G, node_color=colors, node_size=600, alpha=0.8, ax=default_axes, pos=pos)\n",
    "    edge_labels = nx.get_edge_attributes(G, \"weight\")\n",
    "    nx.draw_networkx_edge_labels(G, pos=pos, edge_labels=edge_labels)\n"
   ]
  },
  {
   "cell_type": "code",
   "execution_count": 3,
   "id": "2781a975",
   "metadata": {},
   "outputs": [
    {
     "name": "stdout",
     "output_type": "stream",
     "text": [
      "distance\n",
      " [[ 0. 48. 91.]\n",
      " [48.  0. 63.]\n",
      " [91. 63.  0.]]\n"
     ]
    },
    {
     "data": {
      "image/png": "[encoded data removed]",
      "text/plain": [
       "<Figure size 640x480 with 1 Axes>"
      ]
     },
     "metadata": {},
     "output_type": "display_data"
    }
   ],
   "source": [
    "# Generating a graph of 3 nodes\n",
    "n = 3\n",
    "num_qubits = n**2\n",
    "# tsp = Tsp.create_random_instance(n, seed=123)\n",
    "# adj_matrix = nx.to_numpy_array(tsp.graph)\n",
    "print(\"distance\\n\", adj_matrix)\n",
    "\n",
    "colors = [\"r\" for node in tsp.graph.nodes]\n",
    "pos = [tsp.graph.nodes[node][\"pos\"] for node in tsp.graph.nodes]\n",
    "draw_graph(tsp.graph, colors, pos)"
   ]
  },
  {
   "cell_type": "markdown",
   "id": "044e894d",
   "metadata": {},
   "source": [
    "## Generating tsp Instances"
   ]
  },
  {
   "cell_type": "code",
   "execution_count": 20,
   "id": "315b4f39",
   "metadata": {},
   "outputs": [],
   "source": [
    "import numpy as np\n",
    "\n",
    "def generate_tsp_instance(num_nodes):\n",
    "    # Generate random coordinates for each node\n",
    "    coordinates = np.random.rand(num_nodes, 2)  # 2D coordinates\n",
    "    \n",
    "    # Calculate distances between nodes\n",
    "    distances = np.zeros((num_nodes, num_nodes))\n",
    "    for i in range(num_nodes):\n",
    "        for j in range(num_nodes):\n",
    "            if i != j:\n",
    "                distances[i, j] = np.linalg.norm(coordinates[i] - coordinates[j])  # Euclidean distance\n",
    "    \n",
    "    return coordinates, distances\n",
    "\n",
    "# Generate TSP instance with three nodes\n",
    "num_nodes = 3\n",
    "coordinates, distances = generate_tsp_instance(num_nodes)"
   ]
  },
  {
   "cell_type": "markdown",
   "id": "f8b852b7",
   "metadata": {},
   "source": [
    "### Brute force method"
   ]
  },
  {
   "cell_type": "code",
   "execution_count": 19,
   "id": "3e3e7684",
   "metadata": {},
   "outputs": [],
   "source": [
    "# Simulating with a brute force method\n",
    "from itertools import permutations\n",
    "\n",
    "\n",
    "def brute_force_tsp(w, N):\n",
    "    a = list(permutations(range(1, N)))\n",
    "    last_best_distance = 1e10\n",
    "    for i in a:\n",
    "        distance = 0\n",
    "        pre_j = 0\n",
    "        for j in i:\n",
    "            distance = distance + w[j, pre_j]\n",
    "            pre_j = j\n",
    "        distance = distance + w[pre_j, 0]\n",
    "        order = (0,) + i\n",
    "        if distance < last_best_distance:\n",
    "            best_order = order\n",
    "            last_best_distance = distance\n",
    "            print(\"order = \" + str(order) + \" Distance = \" + str(distance))\n",
    "    return last_best_distance, best_order\n",
    "\n"
   ]
  },
  {
   "cell_type": "markdown",
   "id": "402874a9",
   "metadata": {},
   "source": [
    "##### Partial Permutation matrix of the solution"
   ]
  },
  {
   "cell_type": "code",
   "execution_count": null,
   "id": "31d403fa",
   "metadata": {},
   "outputs": [],
   "source": [
    "import numpy as np\n",
    "\n",
    "def partial_permutation_matrix(n, indices):\n",
    "    \n",
    "    P = np.eye(n)\n",
    "    P = P[:, indices]\n",
    "    return P\n",
    "\n",
    "# Example usage:\n",
    "n = 3  # Size of the permutation matrix\n",
    "indices = [0, 1, 2]  # Indices specifying the permutation\n",
    "P_partial = partial_permutation_matrix(n, indices)\n",
    "print(\"Partial Permutation Matrix:\")\n",
    "print(P_partial)"
   ]
  },
  {
   "cell_type": "markdown",
   "id": "1efb4c02",
   "metadata": {},
   "source": [
    "###### Looping for more solutions"
   ]
  },
  {
   "cell_type": "code",
   "execution_count": 24,
   "id": "a39d11ee",
   "metadata": {},
   "outputs": [
    {
     "name": "stdout",
     "output_type": "stream",
     "text": [
      "order = (0, 1, 2) Distance = 1.1941680440760816\n",
      "Best order from brute force = (0, 1, 2) with total distance = 1.1941680440760816\n",
      "partial permutation matrix \n",
      " [[1. 0. 0.]\n",
      " [0. 1. 0.]\n",
      " [0. 0. 1.]]\n",
      "order = (0, 1, 2) Distance = 0.8120383341261881\n",
      "Best order from brute force = (0, 1, 2) with total distance = 0.8120383341261881\n",
      "partial permutation matrix \n",
      " [[1. 0. 0.]\n",
      " [0. 1. 0.]\n",
      " [0. 0. 1.]]\n",
      "order = (0, 1, 2) Distance = 1.0438423476255645\n",
      "Best order from brute force = (0, 1, 2) with total distance = 1.0438423476255645\n",
      "partial permutation matrix \n",
      " [[1. 0. 0.]\n",
      " [0. 1. 0.]\n",
      " [0. 0. 1.]]\n",
      "order = (0, 1, 2) Distance = 1.3266014306167644\n",
      "Best order from brute force = (0, 1, 2) with total distance = 1.3266014306167644\n",
      "partial permutation matrix \n",
      " [[1. 0. 0.]\n",
      " [0. 1. 0.]\n",
      " [0. 0. 1.]]\n",
      "order = (0, 1, 2) Distance = 1.378561652168488\n",
      "Best order from brute force = (0, 1, 2) with total distance = 1.378561652168488\n",
      "partial permutation matrix \n",
      " [[1. 0. 0.]\n",
      " [0. 1. 0.]\n",
      " [0. 0. 1.]]\n"
     ]
    }
   ],
   "source": [
    "for i in range(5):\n",
    "    coordinates, distances = generate_tsp_instance(num_nodes)\n",
    "    best_distance, best_order= brute_force_tsp(distances, n)\n",
    "    print(\n",
    "    \"Best order from brute force = \"\n",
    "    + str(best_order)\n",
    "    + \" with total distance = \"\n",
    "    + str(best_distance)\n",
    "    )\n",
    "    P_partial = partial_permutation_matrix(n, list(best_order))\n",
    "    print('partial permutation matrix \\n', P_partial)"
   ]
  },
  {
   "cell_type": "markdown",
   "id": "9a9261da",
   "metadata": {},
   "source": [
    "#### Draw Tsp solution"
   ]
  },
  {
   "cell_type": "code",
   "execution_count": 11,
   "id": "26219596",
   "metadata": {},
   "outputs": [],
   "source": [
    "def draw_tsp_solution(G, order, colors, pos):\n",
    "    G2 = nx.DiGraph()\n",
    "    G2.add_nodes_from(G)\n",
    "    n = len(order)\n",
    "    for i in range(n):\n",
    "        j = (i + 1) % n\n",
    "        G2.add_edge(order[i], order[j], weight=G[order[i]][order[j]][\"weight\"])\n",
    "    default_axes = plt.axes(frameon=True)\n",
    "    nx.draw_networkx(\n",
    "        G2, node_color=colors, edge_color=\"b\", node_size=600, alpha=0.8, ax=default_axes, pos=pos\n",
    "    )\n",
    "    edge_labels = nx.get_edge_attributes(G2, \"weight\")\n",
    "    nx.draw_networkx_edge_labels(G2, pos, font_color=\"b\", edge_labels=edge_labels)\n",
    "\n",
    "# draw_tsp_solution(tsp.graph, best_order, colors, pos)"
   ]
  },
  {
   "cell_type": "code",
   "execution_count": 9,
   "id": "6cf7dc06",
   "metadata": {},
   "outputs": [
    {
     "name": "stdout",
     "output_type": "stream",
     "text": [
      "[0, 1, 2]\n"
     ]
    }
   ],
   "source": []
  }
 ],
 "metadata": {
  "kernelspec": {
   "display_name": "Python 3 (ipykernel)",
   "language": "python",
   "name": "python3"
  },
  "language_info": {
   "codemirror_mode": {
    "name": "ipython",
    "version": 3
   },
   "file_extension": ".py",
   "mimetype": "text/x-python",
   "name": "python",
   "nbconvert_exporter": "python",
   "pygments_lexer": "ipython3",
   "version": "3.9.13"
  }
 },
 "nbformat": 4,
 "nbformat_minor": 5
}
