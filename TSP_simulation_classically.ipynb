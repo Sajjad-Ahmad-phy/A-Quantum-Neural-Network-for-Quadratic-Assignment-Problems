{
 "cells": [
  {
   "cell_type": "code",
   "execution_count": 12,
   "id": "d5ca83f1",
   "metadata": {},
   "outputs": [],
   "source": [
    "import numpy as np\n",
    "import networkx as nx\n",
    "import matplotlib.pyplot as plt\n",
    "from qiskit_optimization.applications import Tsp"
   ]
  },
  {
   "cell_type": "code",
   "execution_count": 13,
   "id": "04eb5f9b",
   "metadata": {},
   "outputs": [],
   "source": [
    "def draw_graph(G, colors, pos):\n",
    "    default_axes = plt.axes(frameon=True)\n",
    "    nx.draw_networkx(G, node_color=colors, node_size=600, alpha=0.8, ax=default_axes, pos=pos)\n",
    "    edge_labels = nx.get_edge_attributes(G, \"weight\")\n",
    "    nx.draw_networkx_edge_labels(G, pos=pos, edge_labels=edge_labels)\n"
   ]
  },
  {
   "cell_type": "code",
   "execution_count": 43,
   "id": "2781a975",
   "metadata": {},
   "outputs": [
    {
     "name": "stdout",
     "output_type": "stream",
     "text": [
      "distance\n",
      " [[ 0. 13. 71.]\n",
      " [13.  0. 62.]\n",
      " [71. 62.  0.]]\n"
     ]
    },
    {
     "data": {
      "image/png": "[encoded data removed]",
      "text/plain": [
       "<Figure size 640x480 with 1 Axes>"
      ]
     },
     "metadata": {},
     "output_type": "display_data"
    }
   ],
   "source": [
    "# Generating a graph of 3 nodes\n",
    "num_nodes = 3\n",
    "num_qubits = num_nodes**2\n",
    "tsp = Tsp.create_random_instance(num_nodes, seed=1234)\n",
    "adj_matrix = nx.to_numpy_array(tsp.graph)\n",
    "print(\"distance\\n\", adj_matrix)\n",
    "\n",
    "colors = [\"r\" for node in tsp.graph.nodes]\n",
    "pos = [tsp.graph.nodes[node][\"pos\"] for node in tsp.graph.nodes]\n",
    "draw_graph(tsp.graph, colors, pos)"
   ]
  },
  {
   "cell_type": "markdown",
   "id": "903bec56",
   "metadata": {},
   "source": [
    "## Generating tsp Instances"
   ]
  },
  {
   "cell_type": "code",
   "execution_count": 16,
   "id": "3beab4b9",
   "metadata": {},
   "outputs": [],
   "source": [
    "import numpy as np\n",
    "\n",
    "def generate_tsp_instance(num_nodes):\n",
    "    # Generate random coordinates for each node\n",
    "    coordinates = np.random.rand(num_nodes, 2)  # 2D coordinates\n",
    "    \n",
    "    # Calculate distances between nodes\n",
    "    distances = np.zeros((num_nodes, num_nodes))\n",
    "    for i in range(num_nodes):\n",
    "        for j in range(num_nodes):\n",
    "            if i != j:\n",
    "                distances[i, j] = np.linalg.norm(coordinates[i] - coordinates[j])  # Euclidean distance\n",
    "    \n",
    "    return coordinates, distances\n"
   ]
  },
  {
   "cell_type": "markdown",
   "id": "f8b852b7",
   "metadata": {},
   "source": [
    "### Brute force method"
   ]
  },
  {
   "cell_type": "code",
   "execution_count": 23,
   "id": "3e3e7684",
   "metadata": {},
   "outputs": [],
   "source": [
    "# Simulating with a brute force method\n",
    "from itertools import permutations\n",
    "\n",
    "\n",
    "def brute_force_tsp(w, N):\n",
    "    a = list(permutations(range(1, N)))\n",
    "    last_best_distance = 1e10\n",
    "    for i in a:\n",
    "        distance = 0\n",
    "        pre_j = 0\n",
    "        for j in i:\n",
    "            distance = distance + w[j, pre_j]\n",
    "            pre_j = j\n",
    "        distance = distance + w[pre_j, 0]\n",
    "        order = (0,) + i\n",
    "        if distance < last_best_distance:\n",
    "            best_order = order\n",
    "            last_best_distance = distance\n",
    "#             print(\"order = \" + str(order) + \" Distance = \" + str(distance))\n",
    "    return last_best_distance, best_order\n",
    "\n"
   ]
  },
  {
   "cell_type": "markdown",
   "id": "693d87b9",
   "metadata": {},
   "source": [
    "##### Partial Permutation matrix of the solution"
   ]
  },
  {
   "cell_type": "code",
   "execution_count": 18,
   "id": "fd3a8b72",
   "metadata": {},
   "outputs": [],
   "source": [
    "import numpy as np\n",
    "\n",
    "def partial_permutation_matrix(num_nodes, indices):\n",
    "    \n",
    "    P = np.eye(num_nodes)\n",
    "    P = P[:, indices]\n",
    "    return P\n",
    "\n",
    "# Example usage:\n",
    "# n = 3  # Size of the permutation matrix\n",
    "# indices = [0, 1, 2]  # Indices specifying the permutation\n",
    "# P_partial = partial_permutation_matrix(n, indices)\n",
    "# print(\"Partial Permutation Matrix:\")\n",
    "# print(P_partial)"
   ]
  },
  {
   "cell_type": "code",
   "execution_count": 26,
   "id": "12ae336d",
   "metadata": {},
   "outputs": [
    {
     "name": "stdout",
     "output_type": "stream",
     "text": [
      "(0, 3, 1, 2)\n"
     ]
    }
   ],
   "source": [
    "coordinates, adj_matrix = generate_tsp_instance(num_nodes)\n",
    "best_distance, best_order= brute_force_tsp(adj_matrix, num_nodes)"
   ]
  },
  {
   "cell_type": "markdown",
   "id": "7f1eee87",
   "metadata": {},
   "source": [
    "###### Looping for more solutions"
   ]
  },
  {
   "cell_type": "code",
   "execution_count": 27,
   "id": "96a44aa4",
   "metadata": {},
   "outputs": [
    {
     "name": "stdout",
     "output_type": "stream",
     "text": [
      "Best order from brute force = (0, 1, 3, 2) with total distance = 0.8731185332937081\n",
      "partial permutation matrix \n",
      " [[1. 0. 0. 0.]\n",
      " [0. 1. 0. 0.]\n",
      " [0. 0. 0. 1.]\n",
      " [0. 0. 1. 0.]]\n",
      "Best order from brute force = (0, 1, 2, 3) with total distance = 1.335547569263313\n",
      "partial permutation matrix \n",
      " [[1. 0. 0. 0.]\n",
      " [0. 1. 0. 0.]\n",
      " [0. 0. 1. 0.]\n",
      " [0. 0. 0. 1.]]\n",
      "Best order from brute force = (0, 3, 2, 1) with total distance = 2.1712623512699896\n",
      "partial permutation matrix \n",
      " [[1. 0. 0. 0.]\n",
      " [0. 0. 0. 1.]\n",
      " [0. 0. 1. 0.]\n",
      " [0. 1. 0. 0.]]\n",
      "Best order from brute force = (0, 1, 3, 2) with total distance = 1.6328640750451315\n",
      "partial permutation matrix \n",
      " [[1. 0. 0. 0.]\n",
      " [0. 1. 0. 0.]\n",
      " [0. 0. 0. 1.]\n",
      " [0. 0. 1. 0.]]\n",
      "Best order from brute force = (0, 2, 1, 3) with total distance = 1.2277174418685157\n",
      "partial permutation matrix \n",
      " [[1. 0. 0. 0.]\n",
      " [0. 0. 1. 0.]\n",
      " [0. 1. 0. 0.]\n",
      " [0. 0. 0. 1.]]\n"
     ]
    }
   ],
   "source": [
    "for i in range(5):\n",
    "    coordinates, adj_matrix = generate_tsp_instance(num_nodes)\n",
    "    best_distance, best_order= brute_force_tsp(adj_matrix, num_nodes)\n",
    "    print(\n",
    "    \"Best order from brute force = \"\n",
    "    + str(best_order)\n",
    "    + \" with total distance = \"\n",
    "    + str(best_distance)\n",
    "    )\n",
    "    P_partial = partial_permutation_matrix(num_nodes, list(best_order))\n",
    "    print('partial permutation matrix \\n', P_partial)"
   ]
  },
  {
   "cell_type": "markdown",
   "id": "e6f76277",
   "metadata": {},
   "source": [
    "#### Draw Tsp solution"
   ]
  },
  {
   "cell_type": "code",
   "execution_count": 11,
   "id": "636b24ce",
   "metadata": {},
   "outputs": [],
   "source": [
    "def draw_tsp_solution(G, order, colors, pos):\n",
    "    G2 = nx.DiGraph()\n",
    "    G2.add_nodes_from(G)\n",
    "    n = len(order)\n",
    "    for i in range(n):\n",
    "        j = (i + 1) % n\n",
    "        G2.add_edge(order[i], order[j], weight=G[order[i]][order[j]][\"weight\"])\n",
    "    default_axes = plt.axes(frameon=True)\n",
    "    nx.draw_networkx(\n",
    "        G2, node_color=colors, edge_color=\"b\", node_size=600, alpha=0.8, ax=default_axes, pos=pos\n",
    "    )\n",
    "    edge_labels = nx.get_edge_attributes(G2, \"weight\")\n",
    "    nx.draw_networkx_edge_labels(G2, pos, font_color=\"b\", edge_labels=edge_labels)\n",
    "\n",
    "# draw_tsp_solution(tsp.graph, best_order, colors, pos)"
   ]
  },
  {
   "cell_type": "code",
   "execution_count": 25,
   "id": "7bdc6967",
   "metadata": {},
   "outputs": [
    {
     "name": "stderr",
     "output_type": "stream",
     "text": [
      "warning: in the working copy of '.ipynb_checkpoints/TSP-simulation-checkpoint.ipynb', LF will be replaced by CRLF the next time Git touches it\n",
      "warning: in the working copy of 'Not_MCRX.ipynb', LF will be replaced by CRLF the next time Git touches it\n",
      "warning: in the working copy of 'TSP-simulation.ipynb', LF will be replaced by CRLF the next time Git touches it\n",
      "warning: in the working copy of '.ipynb_checkpoints/TSP_simulation_classically-checkpoint.ipynb', LF will be replaced by CRLF the next time Git touches it\n",
      "warning: in the working copy of 'TSP_simulation_classically.ipynb', LF will be replaced by CRLF the next time Git touches it\n"
     ]
    },
    {
     "name": "stdout",
     "output_type": "stream",
     "text": [
      "[main 9d798e7] Your commit message\n",
      " 5 files changed, 736 insertions(+), 272 deletions(-)\n",
      " create mode 100644 .ipynb_checkpoints/TSP_simulation_classically-checkpoint.ipynb\n",
      " create mode 100644 TSP_simulation_classically.ipynb\n"
     ]
    }
   ],
   "source": [
    "!git add .\n",
    "!git commit -m \"Your commit message\""
   ]
  },
  {
   "cell_type": "code",
   "execution_count": 26,
   "id": "ca3cfa4a",
   "metadata": {},
   "outputs": [
    {
     "name": "stdout",
     "output_type": "stream",
     "text": [
      "branch 'main' set up to track 'origin/main'.\n"
     ]
    },
    {
     "name": "stderr",
     "output_type": "stream",
     "text": [
      "To https://github.com/Sajjad-Ahmad-phy/Final-Year-Project.git\n",
      "   d8dfa5b..9d798e7  main -> main\n"
     ]
    }
   ],
   "source": [
    "!git push -u origin main"
   ]
  },
  {
   "cell_type": "markdown",
   "id": "50dec75a",
   "metadata": {},
   "source": [
    "#### Adding the data to and Excel Sheet"
   ]
  },
  {
   "cell_type": "code",
   "execution_count": 47,
   "id": "ba934b51",
   "metadata": {},
   "outputs": [],
   "source": [
    "import os\n",
    "import numpy as np\n",
    "import openpyxl \n",
    "\n",
    "\n",
    "path = 'C:\\\\Users\\\\LENOVO\\\\OneDrive - National University of Sciences & Technology\\\\Academia\\\\FYP\\\\TSP-3.xlsx'\n",
    "\n",
    "# wb = openpyxl.load_workbook(path)\n",
    "# wb =openpyxl.Workbook()\n",
    "# ws = wb.active\n",
    "\n",
    "ws1 = wb.create_sheet(title = 'Testing data')\n",
    "ws.append(['Adjaceny Matrix', 'Best Order', 'Best Distance', 'Partial Permutation Matrix'])\n",
    "for i in range(1500):\n",
    "    coordinates, adj_matrix = generate_tsp_instance(num_nodes)\n",
    "    best_distance, best_order= brute_force_tsp(adj_matrix, num_nodes)\n",
    "    P_partial = partial_permutation_matrix(num_nodes, list(best_order))\n",
    "    \n",
    "    # Convert the matrix to a string representation\n",
    "    adj_matrix1 = np.array2string(adj_matrix, separator=',')\n",
    "    P_partial1 = np.array2string(P_partial, separator=',')\n",
    "    \n",
    "    \n",
    "    data_append = [adj_matrix1, str(best_order), best_distance, P_partial1]\n",
    "    ws.append(data_append)\n",
    "\n",
    "\n",
    "wb.save(path)"
   ]
  },
  {
   "cell_type": "code",
   "execution_count": null,
   "id": "9fb8b451",
   "metadata": {},
   "outputs": [],
   "source": []
  }
 ],
 "metadata": {
  "kernelspec": {
   "display_name": "Python 3 (ipykernel)",
   "language": "python",
   "name": "python3"
  },
  "language_info": {
   "codemirror_mode": {
    "name": "ipython",
    "version": 3
   },
   "file_extension": ".py",
   "mimetype": "text/x-python",
   "name": "python",
   "nbconvert_exporter": "python",
   "pygments_lexer": "ipython3",
   "version": "3.9.13"
  }
 },
 "nbformat": 4,
 "nbformat_minor": 5
}
