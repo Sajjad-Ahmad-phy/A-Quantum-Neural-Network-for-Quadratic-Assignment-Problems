{
 "cells": [
  {
   "cell_type": "code",
   "execution_count": 7,
   "id": "c37ab5b0",
   "metadata": {},
   "outputs": [],
   "source": [
    "from qiskit import *\n",
    "from qiskit.circuit.library import MCXGate, RXGate, RZZGate\n",
    "from qiskit_aer import Aer, AerSimulator, StatevectorSimulator, QasmSimulator\n",
    "from IPython.core.display import Latex\n",
    "from qiskit.circuit import Parameter\n",
    "from qiskit.circuit.library.standard_gates import RXGate, RYGate, RZGate, RZZGate\n",
    "from sympy.physics.quantum import TensorProduct\n",
    "from sympy import Matrix\n",
    "import numpy as np"
   ]
  },
  {
   "cell_type": "code",
   "execution_count": 8,
   "id": "a70c00b7",
   "metadata": {},
   "outputs": [],
   "source": [
    "def adjacency_matrix(V, edges):\n",
    "    # Initialize an empty V x V matrix with all zeros\n",
    "    matrix = [[0] * V for _ in range(V)]\n",
    "    \n",
    "    # Populate the matrix based on the edges\n",
    "    for edge in edges:\n",
    "        u, v = edge\n",
    "        matrix[u][v] = 1\n",
    "        matrix[v][u] = 1  # Undirected graph\n",
    "    \n",
    "    return np.array(matrix)"
   ]
  },
  {
   "cell_type": "code",
   "execution_count": 9,
   "id": "62c36fab",
   "metadata": {},
   "outputs": [],
   "source": [
    "'Distance Matrix'\n",
    "D = np.array([[0, 2, 3, 4],\n",
    "                [2, 0, 5, 6], \n",
    "                [3, 5, 0, 7], \n",
    "                [4, 6, 7, 0]])\n",
    "\n",
    "'Number of Nodes'\n",
    "V = 4\n",
    "edges = [(0, 1), (1, 2), (2, 3), (3, 0)]\n",
    "\n",
    "'Adjacency matrix'\n",
    "A = adjacency_matrix(V, edges)\n",
    "\n",
    "'Affinity matrix'\n",
    "K = TensorProduct(A, D)\n",
    "MCRX=RXGate(0.5).control(6, ctrl_state='000000')"
   ]
  },
  {
   "cell_type": "code",
   "execution_count": 10,
   "id": "f5fab7eb",
   "metadata": {},
   "outputs": [
    {
     "data": {
      "text/plain": [
       "<qiskit.circuit.instructionset.InstructionSet at 0x28aacdbc4c0>"
      ]
     },
     "execution_count": 10,
     "metadata": {},
     "output_type": "execute_result"
    }
   ],
   "source": [
    "qc = QuantumCircuit(V*V)\n",
    "\n",
    "qc.h([i for i in range(V*V)])\n",
    "for i in range(V*V):\n",
    "    a = 1\n",
    "    for j in range(V*V):\n",
    "        if i == j:\n",
    "            qc.ry(K[i][j], i)\n",
    "        elif i != j and i != a:\n",
    "            qc.append(RZZGate(K[i][j]), [i, a])\n",
    "            a += 1\n",
    "    a += 1\n",
    "\n",
    "qc.barrier()"
   ]
  },
  {
   "cell_type": "code",
   "execution_count": 11,
   "id": "14d4da18-c406-4b7f-a81c-963fc19ea4bc",
   "metadata": {},
   "outputs": [],
   "source": [
    "'Function that return the ctrl qubits for constrained layer'\n",
    "def ctrl_qubits(matrix, row_idx, col_idx):\n",
    "        neighbors = []\n",
    "        num_rows = len(matrix)\n",
    "        num_cols = len(matrix[0])\n",
    "\n",
    "        # Add neighbors from the same row\n",
    "        for j in range(num_cols):\n",
    "            if j != col_idx:  # Exclude the element itself\n",
    "                neighbors.append(matrix[row_idx][j])\n",
    "\n",
    "        # Add neighbors from the same column\n",
    "        for i in range(num_rows):\n",
    "            if i != row_idx:  # Exclude the element itself\n",
    "                neighbors.append(matrix[i][col_idx])\n",
    "\n",
    "        return neighbors\n",
    "            \n",
    "    \n",
    "\"Defining contraint layer\"\n",
    "def constraint_layer(): \n",
    "        matrix = np.array([i for i in range(V*V)]).reshape(V, V)\n",
    "        for i in range(V):\n",
    "            for j in range(V):  \n",
    "                ctrl = list(ctrl_qubits(matrix, i, j))+[matrix[i][j]]\n",
    "                qc.append(MCRX, ctrl)    \n",
    "        qc.barrier()\n",
    "constraint_layer()\n",
    "qc.measure_all()"
   ]
  },
  {
   "cell_type": "code",
   "execution_count": 12,
   "id": "8d222367",
   "metadata": {},
   "outputs": [
    {
     "data": {
      "text/latex": [
       "$$(-0.1455000338 - 0.9893582466 i) |0111101010010010\\rangle$$"
      ],
      "text/plain": [
       "<IPython.core.display.Latex object>"
      ]
     },
     "execution_count": 12,
     "metadata": {},
     "output_type": "execute_result"
    }
   ],
   "source": [
    "simulator = Aer.get_backend('statevector_simulator')\n",
    "qc1= transpile(qc, AerSimulator())\n",
    "result = simulator.run(qc1).result()\n",
    "sv = result.get_statevector(qc).draw('latex')\n",
    "sv"
   ]
  },
  {
   "cell_type": "code",
   "execution_count": null,
   "id": "6ffb3a5a",
   "metadata": {},
   "outputs": [],
   "source": []
  },
  {
   "cell_type": "code",
   "execution_count": null,
   "id": "d4974b9f",
   "metadata": {},
   "outputs": [],
   "source": []
  },
  {
   "cell_type": "code",
   "execution_count": null,
   "id": "81fc1fae",
   "metadata": {},
   "outputs": [],
   "source": []
  },
  {
   "cell_type": "code",
   "execution_count": 12,
   "id": "cc192136",
   "metadata": {},
   "outputs": [
    {
     "name": "stdout",
     "output_type": "stream",
     "text": [
      "Already up to date.\n"
     ]
    },
    {
     "name": "stderr",
     "output_type": "stream",
     "text": [
      "From https://github.com/Sajjad-Ahmad-phy/Final-Year-Project\n",
      " * branch            main       -> FETCH_HEAD\n"
     ]
    }
   ],
   "source": [
    "!git pull origin main"
   ]
  },
  {
   "cell_type": "code",
   "execution_count": 13,
   "id": "eef2e7cb",
   "metadata": {},
   "outputs": [
    {
     "name": "stdout",
     "output_type": "stream",
     "text": [
      "On branch main\n",
      "Your branch is up to date with 'origin/main'.\n",
      "\n",
      "nothing to commit, working tree clean\n"
     ]
    }
   ],
   "source": [
    "!git add .\n",
    "!git commit -m \"Your commit message\""
   ]
  },
  {
   "cell_type": "code",
   "execution_count": 14,
   "id": "c7380d6f",
   "metadata": {},
   "outputs": [
    {
     "name": "stdout",
     "output_type": "stream",
     "text": [
      "branch 'main' set up to track 'origin/main'.\n"
     ]
    },
    {
     "name": "stderr",
     "output_type": "stream",
     "text": [
      "Everything up-to-date\n"
     ]
    }
   ],
   "source": [
    "!git push -u origin main"
   ]
  }
 ],
 "metadata": {
  "kernelspec": {
   "display_name": "Python 3 (ipykernel)",
   "language": "python",
   "name": "python3"
  },
  "language_info": {
   "codemirror_mode": {
    "name": "ipython",
    "version": 3
   },
   "file_extension": ".py",
   "mimetype": "text/x-python",
   "name": "python",
   "nbconvert_exporter": "python",
   "pygments_lexer": "ipython3",
   "version": "3.9.13"
  }
 },
 "nbformat": 4,
 "nbformat_minor": 5
}
