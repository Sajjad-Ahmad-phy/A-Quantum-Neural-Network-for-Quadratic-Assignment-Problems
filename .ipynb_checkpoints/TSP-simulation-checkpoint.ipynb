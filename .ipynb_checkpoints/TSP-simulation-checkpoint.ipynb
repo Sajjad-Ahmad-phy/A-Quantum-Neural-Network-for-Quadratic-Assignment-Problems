{
 "cells": [
  {
   "cell_type": "markdown",
   "id": "9ed0c7e7-9923-48ab-8e40-c7576e0f9837",
   "metadata": {
    "tags": []
   },
   "source": [
    "#### Simulating the travelling salesman problem with three cities."
   ]
  },
  {
   "cell_type": "markdown",
   "id": "29986810",
   "metadata": {},
   "source": [
    "* Cost Matrix"
   ]
  },
  {
   "cell_type": "code",
   "execution_count": 2,
   "id": "02a74eab",
   "metadata": {},
   "outputs": [],
   "source": [
    "K = [0, 2, 3, 4, 0, 6, 7, 8, 0]"
   ]
  },
  {
   "cell_type": "code",
   "execution_count": null,
   "id": "0eb70371",
   "metadata": {},
   "outputs": [],
   "source": []
  },
  {
   "cell_type": "markdown",
   "id": "de8d5605-c967-4a8d-8601-c7bfcfd859fb",
   "metadata": {},
   "source": [
    "* Importing important libraries"
   ]
  },
  {
   "cell_type": "code",
   "execution_count": 24,
   "id": "fc188acb",
   "metadata": {},
   "outputs": [],
   "source": [
    "from qiskit import *\n",
    "from qiskit.circuit import parameter\n",
    "from qiskit.circuit import ParameterVector, Parameter\n",
    "from qiskit.visualization import plot_histogram\n",
    "from IPython.core.display import Latex\n",
    "from qiskit_algorithms.optimizers import ADAM\n",
    "from qiskit_algorithms.gradients import SPSAEstimatorGradient\n",
    "from qiskit_aer import AerSimulator, StatevectorSimulator\n",
    "import numpy as np\n",
    "import ot\n",
    "import re\n",
    "from qiskit.circuit.library.standard_gates import RXGate, RYGate, RZGate"
   ]
  },
  {
   "cell_type": "markdown",
   "id": "05d68edd-d71a-40d4-8c3f-9c842e3fd7cc",
   "metadata": {},
   "source": [
    "* Number of Cities 'n'\n",
    "* Quantum circuit \n",
    "* Applying Hadammard to all qubits"
   ]
  },
  {
   "cell_type": "code",
   "execution_count": 4,
   "id": "f58d1656-ef29-4d8a-b344-8ecb9f1ea1b2",
   "metadata": {},
   "outputs": [
    {
     "data": {
      "text/plain": [
       "<qiskit.circuit.instructionset.InstructionSet at 0x2277fc4ed00>"
      ]
     },
     "execution_count": 4,
     "metadata": {},
     "output_type": "execute_result"
    }
   ],
   "source": [
    "n = 3   \n",
    "qc = QuantumCircuit(n*n)\n",
    "qc.h([i for i in range(n*n)])     # creating equal superposition"
   ]
  },
  {
   "cell_type": "markdown",
   "id": "6aab2310",
   "metadata": {},
   "source": [
    "* Parameters"
   ]
  },
  {
   "cell_type": "code",
   "execution_count": 5,
   "id": "4137feb9",
   "metadata": {},
   "outputs": [],
   "source": [
    "# beta_para = (2 * np.pi * np.random.rand(1))               # Beta parameters\n",
    "# theta1 = (2 * np.pi * np.random.rand(1)).tolist()       # Perceptron layers 1st parameters\n",
    "# theta2 = (2 * np.pi * np.random.rand(1)).tolist()       # Perceptron layers 2nd parameters\n",
    "# alpha = (2 * np.pi * np.random.rand(1)).tolist()         # Alpha parameters for pooling layer"
   ]
  },
  {
   "cell_type": "code",
   "execution_count": 28,
   "id": "92e9a4c4",
   "metadata": {},
   "outputs": [],
   "source": [
    "beta_para = Parameter(r'$\\beta$')   # Constraint layers Parameter\n",
    "theta1 = Parameter(r'$\\theta_1$')     # Perceptron layers 1st parameter\n",
    "theta2 = Parameter(r'$\\theta_2$')     # Perceptron layers 2nd parameter\n",
    "alpha = Parameter(r'$\\alpha$')      # Alpha parameters for pooling layer"
   ]
  },
  {
   "cell_type": "code",
   "execution_count": 30,
   "id": "120d97e0",
   "metadata": {},
   "outputs": [
    {
     "data": {
      "text/plain": [
       "Parameter($\\theta$)"
      ]
     },
     "execution_count": 30,
     "metadata": {},
     "output_type": "execute_result"
    }
   ],
   "source": []
  },
  {
   "cell_type": "markdown",
   "id": "f2582ecd",
   "metadata": {},
   "source": [
    "* Preparing the multi-controlled X rotational gate"
   ]
  },
  {
   "cell_type": "code",
   "execution_count": 6,
   "id": "1989b123",
   "metadata": {},
   "outputs": [],
   "source": [
    "MCRX=RXGate(beta_para.control(4, ctrl_state='0000')"
   ]
  },
  {
   "cell_type": "code",
   "execution_count": 26,
   "id": "680e08ce",
   "metadata": {},
   "outputs": [],
   "source": [
    "class TSP_Solver:\n",
    "    def __init__(self, qc, n, K, theta1, theta2, alpha, matching_matrix):\n",
    "        self.qc = qc\n",
    "        self.n = n\n",
    "        self.n1 = n*n  # Squared of number of cities\n",
    "        self.K = K\n",
    "        self.alpha = alpha\n",
    "        self.theta1 = theta1\n",
    "        self.theta2 = theta2\n",
    "        self.matching_matrix = matching_matrix  # A constraint matrix for matching with the ground truth\n",
    "    \n",
    "    \"Creating an object of encoding layer\"\n",
    "    def encoding_layer(self):\n",
    "        for q in range(len(self.K)):\n",
    "            self.qc.ry(self.K[q], q)\n",
    "        self.qc.barrier()\n",
    "        return self.qc\n",
    "            \n",
    "            \n",
    "    \"Defining contraint layer\"\n",
    "    def constraint_layer(self): \n",
    "        self.qc.append(MCRX, [1, 2, 3, 6, 0])    # rotation on qbit_1\n",
    "        self.qc.append(MCRX, [0, 2, 4, 7, 1])    # rotation on qbit_2\n",
    "        self.qc.append(MCRX, [0, 1, 5, 8, 2])    # rotation on qbit_3\n",
    "        self.qc.append(MCRX, [0, 6, 4, 5, 3])    # rotation on qbit_4\n",
    "        self.qc.append(MCRX, [1, 7, 3, 5, 4])    # rotation on qbit_5\n",
    "        self.qc.append(MCRX, [2, 3, 4, 8, 5])    # rotation on qbit_6\n",
    "        self.qc.append(MCRX, [0, 3, 7, 8, 6])    # rotation on qbit_7\n",
    "        self.qc.append(MCRX, [1, 4, 6, 8, 7])    # rotation on qbit_8\n",
    "        self.qc.append(MCRX, [6, 7, 2, 5, 8])    # rotation on qbit_9\n",
    "        self.qc.barrier()\n",
    "    \n",
    "    \"Perceptron layer\"\n",
    "    def perceptron_layer(self):\n",
    "        rz = RZGate(self.theta1)\n",
    "        ry = RYGate(self.theta2)\n",
    "        for q in range(self.n1):\n",
    "            self.qc.append(rz, [q])\n",
    "            self.qc.append(ry, [q])\n",
    "        self.qc.barrier()   \n",
    "               \n",
    "    'Pooling Layer'\n",
    "    def pooling_layer(self):\n",
    "        ry = RYGate(self.alpha)\n",
    "        for q in range(self.n1):\n",
    "            self.qc.append(ry, [q])\n",
    "        \n",
    "    'Measurement layer'\n",
    "    def measurement_layer(self):\n",
    "        self.qc.measure_all()\n",
    "    \n",
    "    'Statvector simulating'\n",
    "    def statevect(self):\n",
    "        simulator = StatevectorSimulator()\n",
    "        result= simulator.run(transpile(self.qc, simulator), shots = 1000).result()\n",
    "        statevector = result.get_statevector()\n",
    "        return statevector.draw('latex')\n",
    "    \n",
    "    'Reshaping result to matrix'\n",
    "    def x_matrix(self):\n",
    "        latex_string = self.statevect().data     # Stores the statevector as a latex string5\n",
    "        latex_list = list(latex_string)        # This object stores the statevector as a list\n",
    "        \n",
    "        'Extracting only the states of the qubits'\n",
    "        a = latex_list.index('|')\n",
    "        b = latex_list.index('\\\\')\n",
    "        y = latex_list[a+1:b]\n",
    "        y1 = np.array([int(i) for i in y])\n",
    "        Y1 = y1.reshape(self.n, self.n)  # Reshaping the measured states of qubits to a matrix \n",
    "        \n",
    "        # Define the size of marginals\n",
    "        n = Y1.shape[0]\n",
    "        m = Y1.shape[1]\n",
    "        \n",
    "        # Define the cost matrix with the matching constraint\n",
    "        cost_matrix = np.multiply(Y1, self.matching_matrix) # Element-wise multiplication to zero out non-matching elements\n",
    "\n",
    "        # Apply Sinkhorn algorithm to converge to a doubly stochastic matrix with the matching constraint\n",
    "        X_ds = ot.sinkhorn(np.ones(n) / n, np.ones(m) / m, cost_matrix, reg=0.01)\n",
    "        return X_ds\n",
    "    \n",
    "    'Creating the cost function as cross-entrophy loss'\n",
    "    def cost_fun(self):\n",
    "        \"\"\"Cost function of circuit parameters on training data.\n",
    "            The optimizer will attempt to minimize this.\"\"\"\n",
    "        'Objective function'\n",
    "        def objective_func():\n",
    "            loss = 0\n",
    "            X = list(self.matching_matrix.flatten())\n",
    "            Y = list(self.x_matrix().flatten())\n",
    "            for i in range(len(X)):\n",
    "                loss += (-X[i]*np.log(Y[i]) + (1-X[i])*np.log(1-Y[i]))\n",
    "            return loss\n",
    "        return objective_func\n",
    "    \n"
   ]
  },
  {
   "cell_type": "markdown",
   "id": "05abe8f1",
   "metadata": {},
   "source": [
    "#### Calling the whole class here"
   ]
  },
  {
   "cell_type": "code",
   "execution_count": 27,
   "id": "6f7c17b0",
   "metadata": {},
   "outputs": [
    {
     "ename": "CircuitError",
     "evalue": "'Name conflict on adding parameter: $\\\\theta$'",
     "output_type": "error",
     "traceback": [
      "\u001b[1;31m---------------------------------------------------------------------------\u001b[0m",
      "\u001b[1;31mCircuitError\u001b[0m                              Traceback (most recent call last)",
      "\u001b[1;32m~\\AppData\\Local\\Temp\\ipykernel_9020\\1976802102.py\u001b[0m in \u001b[0;36m<module>\u001b[1;34m\u001b[0m\n\u001b[0;32m     20\u001b[0m \u001b[0mqc\u001b[0m\u001b[1;33m.\u001b[0m\u001b[0mh\u001b[0m\u001b[1;33m(\u001b[0m\u001b[1;33m[\u001b[0m\u001b[0mi\u001b[0m \u001b[1;32mfor\u001b[0m \u001b[0mi\u001b[0m \u001b[1;32min\u001b[0m \u001b[0mrange\u001b[0m\u001b[1;33m(\u001b[0m\u001b[0mn\u001b[0m\u001b[1;33m*\u001b[0m\u001b[0mn\u001b[0m\u001b[1;33m)\u001b[0m\u001b[1;33m]\u001b[0m\u001b[1;33m)\u001b[0m     \u001b[1;31m# creating equal superposition\u001b[0m\u001b[1;33m\u001b[0m\u001b[1;33m\u001b[0m\u001b[0m\n\u001b[0;32m     21\u001b[0m \u001b[0mTSP\u001b[0m \u001b[1;33m=\u001b[0m \u001b[0mTSP_Solver\u001b[0m\u001b[1;33m(\u001b[0m\u001b[0mqc\u001b[0m\u001b[1;33m,\u001b[0m \u001b[0mn\u001b[0m\u001b[1;33m,\u001b[0m \u001b[0mK\u001b[0m\u001b[1;33m,\u001b[0m \u001b[0mtheta1\u001b[0m\u001b[1;33m,\u001b[0m \u001b[0mtheta2\u001b[0m\u001b[1;33m,\u001b[0m \u001b[0malpha\u001b[0m\u001b[1;33m,\u001b[0m \u001b[0mm_c\u001b[0m\u001b[1;33m)\u001b[0m\u001b[1;33m\u001b[0m\u001b[1;33m\u001b[0m\u001b[0m\n\u001b[1;32m---> 22\u001b[1;33m \u001b[0mcall_pass_obj_fun\u001b[0m\u001b[1;33m(\u001b[0m\u001b[0mTSP\u001b[0m\u001b[1;33m)\u001b[0m\u001b[1;33m\u001b[0m\u001b[1;33m\u001b[0m\u001b[0m\n\u001b[0m",
      "\u001b[1;32m~\\AppData\\Local\\Temp\\ipykernel_9020\\1976802102.py\u001b[0m in \u001b[0;36mcall_pass_obj_fun\u001b[1;34m(TSP)\u001b[0m\n\u001b[0;32m      2\u001b[0m     \u001b[0mTSP\u001b[0m\u001b[1;33m.\u001b[0m\u001b[0mencoding_layer\u001b[0m\u001b[1;33m(\u001b[0m\u001b[1;33m)\u001b[0m\u001b[1;33m\u001b[0m\u001b[1;33m\u001b[0m\u001b[0m\n\u001b[0;32m      3\u001b[0m     \u001b[0mTSP\u001b[0m\u001b[1;33m.\u001b[0m\u001b[0mconstraint_layer\u001b[0m\u001b[1;33m(\u001b[0m\u001b[1;33m)\u001b[0m\u001b[1;33m\u001b[0m\u001b[1;33m\u001b[0m\u001b[0m\n\u001b[1;32m----> 4\u001b[1;33m     \u001b[0mTSP\u001b[0m\u001b[1;33m.\u001b[0m\u001b[0mperceptron_layer\u001b[0m\u001b[1;33m(\u001b[0m\u001b[1;33m)\u001b[0m\u001b[1;33m\u001b[0m\u001b[1;33m\u001b[0m\u001b[0m\n\u001b[0m\u001b[0;32m      5\u001b[0m     \u001b[0mTSP\u001b[0m\u001b[1;33m.\u001b[0m\u001b[0mpooling_layer\u001b[0m\u001b[1;33m(\u001b[0m\u001b[1;33m)\u001b[0m\u001b[1;33m\u001b[0m\u001b[1;33m\u001b[0m\u001b[0m\n\u001b[0;32m      6\u001b[0m     \u001b[0mTSP\u001b[0m\u001b[1;33m.\u001b[0m\u001b[0mmeasurement_layer\u001b[0m\u001b[1;33m(\u001b[0m\u001b[1;33m)\u001b[0m\u001b[1;33m\u001b[0m\u001b[1;33m\u001b[0m\u001b[0m\n",
      "\u001b[1;32m~\\AppData\\Local\\Temp\\ipykernel_9020\\747185799.py\u001b[0m in \u001b[0;36mperceptron_layer\u001b[1;34m(self)\u001b[0m\n\u001b[0;32m     37\u001b[0m         \u001b[1;32mfor\u001b[0m \u001b[0mq\u001b[0m \u001b[1;32min\u001b[0m \u001b[0mrange\u001b[0m\u001b[1;33m(\u001b[0m\u001b[0mself\u001b[0m\u001b[1;33m.\u001b[0m\u001b[0mn1\u001b[0m\u001b[1;33m)\u001b[0m\u001b[1;33m:\u001b[0m\u001b[1;33m\u001b[0m\u001b[1;33m\u001b[0m\u001b[0m\n\u001b[0;32m     38\u001b[0m             \u001b[0mself\u001b[0m\u001b[1;33m.\u001b[0m\u001b[0mqc\u001b[0m\u001b[1;33m.\u001b[0m\u001b[0mappend\u001b[0m\u001b[1;33m(\u001b[0m\u001b[0mrz\u001b[0m\u001b[1;33m,\u001b[0m \u001b[1;33m[\u001b[0m\u001b[0mq\u001b[0m\u001b[1;33m]\u001b[0m\u001b[1;33m)\u001b[0m\u001b[1;33m\u001b[0m\u001b[1;33m\u001b[0m\u001b[0m\n\u001b[1;32m---> 39\u001b[1;33m             \u001b[0mself\u001b[0m\u001b[1;33m.\u001b[0m\u001b[0mqc\u001b[0m\u001b[1;33m.\u001b[0m\u001b[0mappend\u001b[0m\u001b[1;33m(\u001b[0m\u001b[0mry\u001b[0m\u001b[1;33m,\u001b[0m \u001b[1;33m[\u001b[0m\u001b[0mq\u001b[0m\u001b[1;33m]\u001b[0m\u001b[1;33m)\u001b[0m\u001b[1;33m\u001b[0m\u001b[1;33m\u001b[0m\u001b[0m\n\u001b[0m\u001b[0;32m     40\u001b[0m         \u001b[0mself\u001b[0m\u001b[1;33m.\u001b[0m\u001b[0mqc\u001b[0m\u001b[1;33m.\u001b[0m\u001b[0mbarrier\u001b[0m\u001b[1;33m(\u001b[0m\u001b[1;33m)\u001b[0m\u001b[1;33m\u001b[0m\u001b[1;33m\u001b[0m\u001b[0m\n\u001b[0;32m     41\u001b[0m \u001b[1;33m\u001b[0m\u001b[0m\n",
      "\u001b[1;32m~\\anaconda3\\lib\\site-packages\\qiskit\\circuit\\quantumcircuit.py\u001b[0m in \u001b[0;36mappend\u001b[1;34m(self, instruction, qargs, cargs)\u001b[0m\n\u001b[0;32m   1290\u001b[0m                 \u001b[0mself\u001b[0m\u001b[1;33m.\u001b[0m\u001b[0m_check_dups\u001b[0m\u001b[1;33m(\u001b[0m\u001b[0mqarg\u001b[0m\u001b[1;33m)\u001b[0m\u001b[1;33m\u001b[0m\u001b[1;33m\u001b[0m\u001b[0m\n\u001b[0;32m   1291\u001b[0m                 \u001b[0minstruction\u001b[0m \u001b[1;33m=\u001b[0m \u001b[0mCircuitInstruction\u001b[0m\u001b[1;33m(\u001b[0m\u001b[0moperation\u001b[0m\u001b[1;33m,\u001b[0m \u001b[0mqarg\u001b[0m\u001b[1;33m,\u001b[0m \u001b[0mcarg\u001b[0m\u001b[1;33m)\u001b[0m\u001b[1;33m\u001b[0m\u001b[1;33m\u001b[0m\u001b[0m\n\u001b[1;32m-> 1292\u001b[1;33m                 \u001b[0mappender\u001b[0m\u001b[1;33m(\u001b[0m\u001b[0minstruction\u001b[0m\u001b[1;33m)\u001b[0m\u001b[1;33m\u001b[0m\u001b[1;33m\u001b[0m\u001b[0m\n\u001b[0m\u001b[0;32m   1293\u001b[0m                 \u001b[0minstructions\u001b[0m\u001b[1;33m.\u001b[0m\u001b[0madd\u001b[0m\u001b[1;33m(\u001b[0m\u001b[0minstruction\u001b[0m\u001b[1;33m)\u001b[0m\u001b[1;33m\u001b[0m\u001b[1;33m\u001b[0m\u001b[0m\n\u001b[0;32m   1294\u001b[0m         \u001b[1;32melse\u001b[0m\u001b[1;33m:\u001b[0m\u001b[1;33m\u001b[0m\u001b[1;33m\u001b[0m\u001b[0m\n",
      "\u001b[1;32m~\\anaconda3\\lib\\site-packages\\qiskit\\circuit\\quantumcircuit.py\u001b[0m in \u001b[0;36m_append\u001b[1;34m(self, instruction, qargs, cargs)\u001b[0m\n\u001b[0;32m   1360\u001b[0m         \u001b[0mself\u001b[0m\u001b[1;33m.\u001b[0m\u001b[0m_data\u001b[0m\u001b[1;33m.\u001b[0m\u001b[0mappend\u001b[0m\u001b[1;33m(\u001b[0m\u001b[0minstruction\u001b[0m\u001b[1;33m)\u001b[0m\u001b[1;33m\u001b[0m\u001b[1;33m\u001b[0m\u001b[0m\n\u001b[0;32m   1361\u001b[0m         \u001b[1;32mif\u001b[0m \u001b[0misinstance\u001b[0m\u001b[1;33m(\u001b[0m\u001b[0minstruction\u001b[0m\u001b[1;33m.\u001b[0m\u001b[0moperation\u001b[0m\u001b[1;33m,\u001b[0m \u001b[0mInstruction\u001b[0m\u001b[1;33m)\u001b[0m\u001b[1;33m:\u001b[0m\u001b[1;33m\u001b[0m\u001b[1;33m\u001b[0m\u001b[0m\n\u001b[1;32m-> 1362\u001b[1;33m             \u001b[0mself\u001b[0m\u001b[1;33m.\u001b[0m\u001b[0m_update_parameter_table\u001b[0m\u001b[1;33m(\u001b[0m\u001b[0minstruction\u001b[0m\u001b[1;33m)\u001b[0m\u001b[1;33m\u001b[0m\u001b[1;33m\u001b[0m\u001b[0m\n\u001b[0m\u001b[0;32m   1363\u001b[0m \u001b[1;33m\u001b[0m\u001b[0m\n\u001b[0;32m   1364\u001b[0m         \u001b[1;31m# mark as normal circuit if a new instruction is added\u001b[0m\u001b[1;33m\u001b[0m\u001b[1;33m\u001b[0m\u001b[0m\n",
      "\u001b[1;32m~\\anaconda3\\lib\\site-packages\\qiskit\\circuit\\quantumcircuit.py\u001b[0m in \u001b[0;36m_update_parameter_table\u001b[1;34m(self, instruction)\u001b[0m\n\u001b[0;32m   1380\u001b[0m                 \u001b[1;32melse\u001b[0m\u001b[1;33m:\u001b[0m\u001b[1;33m\u001b[0m\u001b[1;33m\u001b[0m\u001b[0m\n\u001b[0;32m   1381\u001b[0m                     \u001b[1;32mif\u001b[0m \u001b[0mparameter\u001b[0m\u001b[1;33m.\u001b[0m\u001b[0mname\u001b[0m \u001b[1;32min\u001b[0m \u001b[0mself\u001b[0m\u001b[1;33m.\u001b[0m\u001b[0m_parameter_table\u001b[0m\u001b[1;33m.\u001b[0m\u001b[0mget_names\u001b[0m\u001b[1;33m(\u001b[0m\u001b[1;33m)\u001b[0m\u001b[1;33m:\u001b[0m\u001b[1;33m\u001b[0m\u001b[1;33m\u001b[0m\u001b[0m\n\u001b[1;32m-> 1382\u001b[1;33m                         \u001b[1;32mraise\u001b[0m \u001b[0mCircuitError\u001b[0m\u001b[1;33m(\u001b[0m\u001b[1;34mf\"Name conflict on adding parameter: {parameter.name}\"\u001b[0m\u001b[1;33m)\u001b[0m\u001b[1;33m\u001b[0m\u001b[1;33m\u001b[0m\u001b[0m\n\u001b[0m\u001b[0;32m   1383\u001b[0m                     self._parameter_table[parameter] = ParameterReferences(\n\u001b[0;32m   1384\u001b[0m                         \u001b[1;33m(\u001b[0m\u001b[1;33m(\u001b[0m\u001b[0minstruction\u001b[0m\u001b[1;33m.\u001b[0m\u001b[0moperation\u001b[0m\u001b[1;33m,\u001b[0m \u001b[0mparam_index\u001b[0m\u001b[1;33m)\u001b[0m\u001b[1;33m,\u001b[0m\u001b[1;33m)\u001b[0m\u001b[1;33m\u001b[0m\u001b[1;33m\u001b[0m\u001b[0m\n",
      "\u001b[1;31mCircuitError\u001b[0m: 'Name conflict on adding parameter: $\\\\theta$'"
     ]
    }
   ],
   "source": [
    "def call_pass_obj_fun(TSP):\n",
    "    TSP.encoding_layer()\n",
    "    TSP.constraint_layer()\n",
    "    TSP.perceptron_layer()\n",
    "    TSP.pooling_layer()\n",
    "    TSP.measurement_layer()\n",
    "    return TSP.qc.draw('mpl')\n",
    "#     TSP.statevect()\n",
    "#     TSP.x_matrix()\n",
    "#     obj = TSP.cost_fun()\n",
    "#     return obj\n",
    "    \n",
    "    \n",
    "# Define the matching constraint\n",
    "m_c = np.array([[0, 1, 0],\n",
    "                [1, 0, 0],\n",
    "                [0, 0, 1]])\n",
    "n = 3\n",
    "qc = QuantumCircuit(n*n)\n",
    "qc.h([i for i in range(n*n)])     # creating equal superposition    \n",
    "TSP = TSP_Solver(qc, n, K, theta1, theta2, alpha, m_c)\n",
    "call_pass_obj_fun(TSP)"
   ]
  },
  {
   "cell_type": "markdown",
   "id": "fb8f32c5",
   "metadata": {},
   "source": [
    "###### A main function from where the whole class or TSP-Simulation be controlled"
   ]
  },
  {
   "cell_type": "code",
   "execution_count": 21,
   "id": "8615f11a",
   "metadata": {},
   "outputs": [
    {
     "ename": "TypeError",
     "evalue": "objective_func() takes 0 positional arguments but 1 was given",
     "output_type": "error",
     "traceback": [
      "\u001b[1;31m---------------------------------------------------------------------------\u001b[0m",
      "\u001b[1;31mTypeError\u001b[0m                                 Traceback (most recent call last)",
      "\u001b[1;32m~\\AppData\\Local\\Temp\\ipykernel_9020\\1326495850.py\u001b[0m in \u001b[0;36m<module>\u001b[1;34m\u001b[0m\n\u001b[0;32m     22\u001b[0m \u001b[1;33m\u001b[0m\u001b[0m\n\u001b[0;32m     23\u001b[0m \u001b[1;32mif\u001b[0m \u001b[0m__name__\u001b[0m \u001b[1;33m==\u001b[0m \u001b[1;34m'__main__'\u001b[0m\u001b[1;33m:\u001b[0m\u001b[1;33m\u001b[0m\u001b[1;33m\u001b[0m\u001b[0m\n\u001b[1;32m---> 24\u001b[1;33m     \u001b[0mmain\u001b[0m\u001b[1;33m(\u001b[0m\u001b[1;33m)\u001b[0m\u001b[1;33m\u001b[0m\u001b[1;33m\u001b[0m\u001b[0m\n\u001b[0m",
      "\u001b[1;32m~\\AppData\\Local\\Temp\\ipykernel_9020\\1326495850.py\u001b[0m in \u001b[0;36mmain\u001b[1;34m()\u001b[0m\n\u001b[0;32m     19\u001b[0m     \u001b[1;31m# Creating the adam optimizer and minimizing the cross-entropy function\u001b[0m\u001b[1;33m\u001b[0m\u001b[1;33m\u001b[0m\u001b[0m\n\u001b[0;32m     20\u001b[0m     \u001b[0madam\u001b[0m \u001b[1;33m=\u001b[0m \u001b[0mADAM\u001b[0m\u001b[1;33m(\u001b[0m\u001b[0mmaxiter\u001b[0m\u001b[1;33m=\u001b[0m\u001b[1;36m100\u001b[0m\u001b[1;33m,\u001b[0m \u001b[0mtol\u001b[0m\u001b[1;33m=\u001b[0m\u001b[1;36m1e-06\u001b[0m\u001b[1;33m,\u001b[0m \u001b[0mlr\u001b[0m\u001b[1;33m=\u001b[0m\u001b[1;36m0.01\u001b[0m\u001b[1;33m,\u001b[0m \u001b[0mbeta_1\u001b[0m\u001b[1;33m=\u001b[0m\u001b[1;36m0.9\u001b[0m\u001b[1;33m,\u001b[0m \u001b[0mbeta_2\u001b[0m\u001b[1;33m=\u001b[0m\u001b[1;36m0.99\u001b[0m\u001b[1;33m)\u001b[0m\u001b[1;33m\u001b[0m\u001b[1;33m\u001b[0m\u001b[0m\n\u001b[1;32m---> 21\u001b[1;33m     \u001b[0mresult\u001b[0m \u001b[1;33m=\u001b[0m \u001b[0madam\u001b[0m\u001b[1;33m.\u001b[0m\u001b[0mminimize\u001b[0m\u001b[1;33m(\u001b[0m\u001b[0mcall_pass_obj_fun\u001b[0m\u001b[1;33m(\u001b[0m\u001b[0mTSP\u001b[0m\u001b[1;33m)\u001b[0m\u001b[1;33m,\u001b[0m \u001b[0mSPSAEstimatorGradient\u001b[0m\u001b[1;33m)\u001b[0m\u001b[1;33m\u001b[0m\u001b[1;33m\u001b[0m\u001b[0m\n\u001b[0m\u001b[0;32m     22\u001b[0m \u001b[1;33m\u001b[0m\u001b[0m\n\u001b[0;32m     23\u001b[0m \u001b[1;32mif\u001b[0m \u001b[0m__name__\u001b[0m \u001b[1;33m==\u001b[0m \u001b[1;34m'__main__'\u001b[0m\u001b[1;33m:\u001b[0m\u001b[1;33m\u001b[0m\u001b[1;33m\u001b[0m\u001b[0m\n",
      "\u001b[1;32m~\\anaconda3\\lib\\site-packages\\qiskit_algorithms\\optimizers\\adam_amsgrad.py\u001b[0m in \u001b[0;36mminimize\u001b[1;34m(self, fun, x0, jac, bounds)\u001b[0m\n\u001b[0;32m    212\u001b[0m             \u001b[0mjac\u001b[0m \u001b[1;33m=\u001b[0m \u001b[0mOptimizer\u001b[0m\u001b[1;33m.\u001b[0m\u001b[0mwrap_function\u001b[0m\u001b[1;33m(\u001b[0m\u001b[0mOptimizer\u001b[0m\u001b[1;33m.\u001b[0m\u001b[0mgradient_num_diff\u001b[0m\u001b[1;33m,\u001b[0m \u001b[1;33m(\u001b[0m\u001b[0mfun\u001b[0m\u001b[1;33m,\u001b[0m \u001b[0mself\u001b[0m\u001b[1;33m.\u001b[0m\u001b[0m_eps\u001b[0m\u001b[1;33m)\u001b[0m\u001b[1;33m)\u001b[0m\u001b[1;33m\u001b[0m\u001b[1;33m\u001b[0m\u001b[0m\n\u001b[0;32m    213\u001b[0m \u001b[1;33m\u001b[0m\u001b[0m\n\u001b[1;32m--> 214\u001b[1;33m         \u001b[0mderivative\u001b[0m \u001b[1;33m=\u001b[0m \u001b[0mjac\u001b[0m\u001b[1;33m(\u001b[0m\u001b[0mx0\u001b[0m\u001b[1;33m)\u001b[0m\u001b[1;33m\u001b[0m\u001b[1;33m\u001b[0m\u001b[0m\n\u001b[0m\u001b[0;32m    215\u001b[0m         \u001b[0mself\u001b[0m\u001b[1;33m.\u001b[0m\u001b[0m_t\u001b[0m \u001b[1;33m=\u001b[0m \u001b[1;36m0\u001b[0m\u001b[1;33m\u001b[0m\u001b[1;33m\u001b[0m\u001b[0m\n\u001b[0;32m    216\u001b[0m         \u001b[0mself\u001b[0m\u001b[1;33m.\u001b[0m\u001b[0m_m\u001b[0m \u001b[1;33m=\u001b[0m \u001b[0mnp\u001b[0m\u001b[1;33m.\u001b[0m\u001b[0mzeros\u001b[0m\u001b[1;33m(\u001b[0m\u001b[0mnp\u001b[0m\u001b[1;33m.\u001b[0m\u001b[0mshape\u001b[0m\u001b[1;33m(\u001b[0m\u001b[0mderivative\u001b[0m\u001b[1;33m)\u001b[0m\u001b[1;33m)\u001b[0m\u001b[1;33m\u001b[0m\u001b[1;33m\u001b[0m\u001b[0m\n",
      "\u001b[1;32m~\\anaconda3\\lib\\site-packages\\qiskit_algorithms\\optimizers\\optimizer.py\u001b[0m in \u001b[0;36mfunction_wrapper\u001b[1;34m(*wrapper_args)\u001b[0m\n\u001b[0;32m    266\u001b[0m \u001b[1;33m\u001b[0m\u001b[0m\n\u001b[0;32m    267\u001b[0m         \u001b[1;32mdef\u001b[0m \u001b[0mfunction_wrapper\u001b[0m\u001b[1;33m(\u001b[0m\u001b[1;33m*\u001b[0m\u001b[0mwrapper_args\u001b[0m\u001b[1;33m)\u001b[0m\u001b[1;33m:\u001b[0m\u001b[1;33m\u001b[0m\u001b[1;33m\u001b[0m\u001b[0m\n\u001b[1;32m--> 268\u001b[1;33m             \u001b[1;32mreturn\u001b[0m \u001b[0mfunction\u001b[0m\u001b[1;33m(\u001b[0m\u001b[1;33m*\u001b[0m\u001b[1;33m(\u001b[0m\u001b[0mwrapper_args\u001b[0m \u001b[1;33m+\u001b[0m \u001b[0margs\u001b[0m\u001b[1;33m)\u001b[0m\u001b[1;33m)\u001b[0m\u001b[1;33m\u001b[0m\u001b[1;33m\u001b[0m\u001b[0m\n\u001b[0m\u001b[0;32m    269\u001b[0m \u001b[1;33m\u001b[0m\u001b[0m\n\u001b[0;32m    270\u001b[0m         \u001b[1;32mreturn\u001b[0m \u001b[0mfunction_wrapper\u001b[0m\u001b[1;33m\u001b[0m\u001b[1;33m\u001b[0m\u001b[0m\n",
      "\u001b[1;32m~\\anaconda3\\lib\\site-packages\\qiskit_algorithms\\optimizers\\optimizer.py\u001b[0m in \u001b[0;36mgradient_num_diff\u001b[1;34m(x_center, f, epsilon, max_evals_grouped)\u001b[0m\n\u001b[0;32m    217\u001b[0m             \u001b[0mmax_evals_grouped\u001b[0m \u001b[1;33m=\u001b[0m \u001b[1;36m1\u001b[0m\u001b[1;33m\u001b[0m\u001b[1;33m\u001b[0m\u001b[0m\n\u001b[0;32m    218\u001b[0m \u001b[1;33m\u001b[0m\u001b[0m\n\u001b[1;32m--> 219\u001b[1;33m         \u001b[0mforig\u001b[0m \u001b[1;33m=\u001b[0m \u001b[0mf\u001b[0m\u001b[1;33m(\u001b[0m\u001b[1;33m*\u001b[0m\u001b[1;33m(\u001b[0m\u001b[1;33m(\u001b[0m\u001b[0mx_center\u001b[0m\u001b[1;33m,\u001b[0m\u001b[1;33m)\u001b[0m\u001b[1;33m)\u001b[0m\u001b[1;33m)\u001b[0m\u001b[1;33m\u001b[0m\u001b[1;33m\u001b[0m\u001b[0m\n\u001b[0m\u001b[0;32m    220\u001b[0m         \u001b[0mgrad\u001b[0m \u001b[1;33m=\u001b[0m \u001b[1;33m[\u001b[0m\u001b[1;33m]\u001b[0m\u001b[1;33m\u001b[0m\u001b[1;33m\u001b[0m\u001b[0m\n\u001b[0;32m    221\u001b[0m         \u001b[0mei\u001b[0m \u001b[1;33m=\u001b[0m \u001b[0mnp\u001b[0m\u001b[1;33m.\u001b[0m\u001b[0mzeros\u001b[0m\u001b[1;33m(\u001b[0m\u001b[1;33m(\u001b[0m\u001b[0mlen\u001b[0m\u001b[1;33m(\u001b[0m\u001b[0mx_center\u001b[0m\u001b[1;33m)\u001b[0m\u001b[1;33m,\u001b[0m\u001b[1;33m)\u001b[0m\u001b[1;33m,\u001b[0m \u001b[0mfloat\u001b[0m\u001b[1;33m)\u001b[0m\u001b[1;33m\u001b[0m\u001b[1;33m\u001b[0m\u001b[0m\n",
      "\u001b[1;31mTypeError\u001b[0m: objective_func() takes 0 positional arguments but 1 was given"
     ]
    }
   ],
   "source": [
    "# Main Function\n",
    "def main():\n",
    "    \n",
    "    class optimizerlog:\n",
    "        \"\"\"Log to store optimizer's intermediate results\"\"\"\n",
    "        def __init__(self):\n",
    "            self.evaluations = []\n",
    "            self.parameters = []\n",
    "            self.costs = []\n",
    "        def update(self, evaluation, parameter, cost, _stepsize, _accept):\n",
    "            \"\"\"Save intermediate results. Optimizer passes five values\n",
    "            but we ignore the last two.\"\"\"\n",
    "            self.evaluations.append(evaluation)\n",
    "            self.parameters.append(parameter)\n",
    "            self.costs.append(cost)\n",
    "\n",
    "    log = optimizerlog()\n",
    "    \n",
    "    # Creating the adam optimizer and minimizing the cross-entropy function\n",
    "    adam = ADAM(maxiter=100, tol=1e-06, lr=0.01, beta_1=0.9, beta_2=0.99)\n",
    "    result = adam.minimize(call_pass_obj_fun(TSP), SPSAEstimatorGradient)\n",
    "\n",
    "if __name__ == '__main__':\n",
    "    main()"
   ]
  },
  {
   "cell_type": "code",
   "execution_count": 111,
   "id": "e6e3bad4",
   "metadata": {},
   "outputs": [
    {
     "name": "stderr",
     "output_type": "stream",
     "text": [
      "warning: in the working copy of 'TSP-simulation.ipynb', LF will be replaced by CRLF the next time Git touches it\n",
      "warning: adding embedded git repository: pyconcorde\n",
      "hint: You've added another git repository inside your current repository.\n",
      "hint: Clones of the outer repository will not contain the contents of\n",
      "hint: the embedded repository and will not know how to obtain it.\n",
      "hint: If you meant to add a submodule, use:\n",
      "hint: \n",
      "hint: \tgit submodule add <url> pyconcorde\n",
      "hint: \n",
      "hint: If you added this path by mistake, you can remove it from the\n",
      "hint: index with:\n",
      "hint: \n",
      "hint: \tgit rm --cached pyconcorde\n",
      "hint: \n",
      "hint: See \"git help submodule\" for more information.\n"
     ]
    },
    {
     "name": "stdout",
     "output_type": "stream",
     "text": [
      "[main b1dfb90] Your commit message\n",
      " 1 file changed, 55 insertions(+), 22 deletions(-)\n"
     ]
    }
   ],
   "source": [
    "!git add .\n",
    "!git commit -m \"Your commit message\""
   ]
  },
  {
   "cell_type": "code",
   "execution_count": 112,
   "id": "4e9542fb",
   "metadata": {},
   "outputs": [
    {
     "name": "stdout",
     "output_type": "stream",
     "text": [
      "branch 'main' set up to track 'origin/main'.\n"
     ]
    },
    {
     "name": "stderr",
     "output_type": "stream",
     "text": [
      "To https://github.com/Sajjad-Ahmad-phy/Final-Year-Project.git\n",
      "   1fc973b..b1dfb90  main -> main\n"
     ]
    }
   ],
   "source": [
    "!git push -u origin main"
   ]
  },
  {
   "cell_type": "code",
   "execution_count": null,
   "id": "6fe5e79e",
   "metadata": {},
   "outputs": [],
   "source": []
  }
 ],
 "metadata": {
  "kernelspec": {
   "display_name": "Python 3 (ipykernel)",
   "language": "python",
   "name": "python3"
  },
  "language_info": {
   "codemirror_mode": {
    "name": "ipython",
    "version": 3
   },
   "file_extension": ".py",
   "mimetype": "text/x-python",
   "name": "python",
   "nbconvert_exporter": "python",
   "pygments_lexer": "ipython3",
   "version": "3.9.13"
  }
 },
 "nbformat": 4,
 "nbformat_minor": 5
}
