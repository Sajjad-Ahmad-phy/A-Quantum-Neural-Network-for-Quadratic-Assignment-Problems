{
 "cells": [
  {
   "cell_type": "markdown",
   "id": "10aaa12e",
   "metadata": {},
   "source": [
    "#### Data\n",
    "\n",
    "* Fuel consumption and CO_2 emission"
   ]
  },
  {
   "cell_type": "code",
   "execution_count": 2,
   "id": "d61e4c50",
   "metadata": {},
   "outputs": [],
   "source": [
    "import numpy as np\n",
    "import pandas as pd\n",
    "import matplotlib.pyplot as plt"
   ]
  },
  {
   "cell_type": "code",
   "execution_count": 3,
   "id": "7d950056",
   "metadata": {},
   "outputs": [
    {
     "data": {
      "image/png": "[encoded data removed]",
      "text/plain": [
       "<Figure size 640x480 with 1 Axes>"
      ]
     },
     "metadata": {},
     "output_type": "display_data"
    }
   ],
   "source": [
    "\n",
    "\n",
    "df = pd.read_csv(\"D:\\Sajjad Ahmad\\Jupyter Projects\\QML\\Fuel Consumption Ratings.csv\", encoding = 'latin-1')\n",
    "\n",
    "'Taking a look at the data'\n",
    "# df.head()\n",
    "\n",
    "'Describing data'\n",
    "# df.describe()\n",
    "\n",
    "'Selecting some features'\n",
    "cdf = df[['Engine_Size', 'CO2_Emissions']]\n",
    "\n",
    "# cdf.head(10)\n",
    "\n",
    "\n",
    "\n",
    "\"\"\"\n",
    "Drawing a scatter plot:\n",
    "1. Engine Size Vs Emission of CO2\n",
    "\n",
    "\"\"\"\n",
    "\n",
    "plt.scatter(cdf.Engine_Size, cdf.CO2_Emissions, color = 'blue')\n",
    "plt.xlabel('Engine Size')\n",
    "plt.ylabel('CO2_Emission')\n",
    "plt.show()"
   ]
  },
  {
   "cell_type": "code",
   "execution_count": null,
   "id": "7f183462",
   "metadata": {},
   "outputs": [],
   "source": []
  },
  {
   "cell_type": "markdown",
   "id": "470b643a",
   "metadata": {},
   "source": [
    "* Dataset \n",
    "\n",
    "<h1 align='center'><font size=2> \\begin{equation} data = \\begin{bmatrix}\n",
    "X ~~(Engine~~ Size) \\\\\n",
    "Y ~~(CO2~~ Emission)\n",
    "\\end{bmatrix} \\end{equation}  </font></h1>\n",
    "\n",
    "* The hypothesis function:\n",
    "\n",
    "<h1 align='center'><font size=3>$h(\\theta) = \\theta_0 + \\theta_1 X$ </font></h1> ; $\\theta_0$ is the initial value\n",
    "\n",
    "* Mean square error (MQE) function:\n",
    "<h1 align='center'><font size=3>$C(\\theta) = \\frac{1}{2m} \\left( h(\\theta) - Y \\right)^{2}$ </font></h1> ; where m is the number of examples\n",
    "\n",
    "By putting the hypothesis function above function the MSE func will be\n",
    "\n",
    "<h1 align='center'><font size=3>$C(\\theta) = \\frac{1}{2m} \\sum_{i=1}^{m} \\left(\\theta_0 + \\theta_1 x^i - y^i \\right)^{2}$ </font></h1>\n",
    "\n",
    "This function will be used as a cost function to be minimized for the value of $\\theta$ using gradient descent method\n"
   ]
  },
  {
   "cell_type": "code",
   "execution_count": null,
   "id": "7e174a7b",
   "metadata": {},
   "outputs": [],
   "source": []
  },
  {
   "cell_type": "markdown",
   "id": "e5089b46",
   "metadata": {},
   "source": [
    "#### Gradient descent\n",
    "\n",
    "<h1 align='center'><font size=3>$ \\theta (n+1) = \\theta(n) - \\alpha \\nabla C(\\theta)$ </font></h1>\n",
    "\n",
    "<h1 align='center'><font size=3>$  \\nabla C(\\theta) = \\begin{bmatrix} \\frac{\\partial C}{\\partial \\theta_0} \\\\\n",
    "\\frac{\\partial C}{\\partial \\theta_1}  \\end{bmatrix}$ </font></h1>\n",
    "\n",
    "<h1 align='center'><font size=3>$  \\nabla C(\\theta) = \\begin{bmatrix} \\frac{1}{m} \\sum_{i=1}^{m} \\left(\\theta_0 + \\theta_1 x^i - y^i \\right) \\\\\n",
    "\\frac{1}{m} \\sum_{i=1}^{m} \\left(\\theta_0 + \\theta_1 x^i - y^i \\right)\\theta_1  \\end{bmatrix}$ </font></h1>"
   ]
  },
  {
   "cell_type": "code",
   "execution_count": null,
   "id": "a08d2f4d",
   "metadata": {},
   "outputs": [],
   "source": []
  },
  {
   "cell_type": "markdown",
   "id": "6586fcfc",
   "metadata": {},
   "source": [
    "##### Splitting the dataset\n",
    "\n",
    "* Splitting dataset into train and test sets: 80% data for training and 20% for testing"
   ]
  },
  {
   "cell_type": "code",
   "execution_count": 54,
   "id": "121b272b",
   "metadata": {},
   "outputs": [],
   "source": [
    "'Splitting dataset into train and test sets: 80% data for training and 20% for testing'\n",
    "msk = np.random.rand(len(df)) < 0.8   #it creates an array of Boleans True and False of the length of data set\n",
    "train = cdf[msk]\n",
    "test = cdf[~msk]\n",
    "\n",
    "train_x = np.asanyarray(train[['Engine_Size']])\n",
    "train_y = np.asanyarray(train[['CO2_Emissions']])\n",
    "\n",
    "test_x = np.asanyarray(test[['Engine_Size']])\n",
    "test_y = np.asanyarray(test[['CO2_Emissions']])"
   ]
  },
  {
   "cell_type": "code",
   "execution_count": null,
   "id": "afd878c9",
   "metadata": {},
   "outputs": [],
   "source": []
  },
  {
   "cell_type": "markdown",
   "id": "7c75901c",
   "metadata": {},
   "source": [
    "##### Traing using Gradient descent"
   ]
  },
  {
   "cell_type": "code",
   "execution_count": 70,
   "id": "209ef3ee",
   "metadata": {},
   "outputs": [],
   "source": [
    "def gradient(train_x, train_y,theta):\n",
    "    m = len(train_x)\n",
    "    grad = []\n",
    "    grad_0 = 0\n",
    "    grad_1 = 0\n",
    "    for i in range(m):\n",
    "        grad_0 += 1/m * (theta[0] + theta[1]*train_x[i][0] - train_y[i][0])\n",
    "        grad_1 += 1/m * (theta[0] + theta[1]*train_x[i][0] - train_y[i][0])*theta[1]\n",
    "    \n",
    "    grad.append(grad_0)\n",
    "    grad.append(grad_1)\n",
    "    \n",
    "    return grad    \n",
    "        "
   ]
  },
  {
   "cell_type": "code",
   "execution_count": null,
   "id": "a50cf2b1",
   "metadata": {},
   "outputs": [],
   "source": []
  },
  {
   "cell_type": "code",
   "execution_count": 73,
   "id": "91b778b6",
   "metadata": {},
   "outputs": [],
   "source": [
    "def update_theta(grad, theta, lr, tol):\n",
    "    theta0 = 0\n",
    "    theta1 = 0\n",
    "    for j in range(5000):\n",
    "        if grad[0] == tol and grad[1] == tol:\n",
    "            break\n",
    "        else:\n",
    "            theta0 = theta[0] - lr*grad[0]\n",
    "            theta1 = theta[1] - lr*grad[1]\n",
    "    \n",
    "    return f\"theta0 = {theta0}, theta1 = {theta1}\""
   ]
  },
  {
   "cell_type": "markdown",
   "id": "33940f7f",
   "metadata": {},
   "source": [
    "##### Calling the gradient and theta function"
   ]
  },
  {
   "cell_type": "code",
   "execution_count": 74,
   "id": "4048668d",
   "metadata": {},
   "outputs": [
    {
     "data": {
      "text/plain": [
       "'theta0 = 127.43698484848491, theta1 = 115.14328636363639'"
      ]
     },
     "execution_count": 74,
     "metadata": {},
     "output_type": "execute_result"
    }
   ],
   "source": [
    "tol=1e-6\n",
    "lr = 0.5\n",
    "theta = np.array([0.5, 0.9])\n",
    "grad = gradient(train_x, train_y, theta)\n",
    "update_theta(grad, theta, lr, tol)"
   ]
  },
  {
   "cell_type": "markdown",
   "id": "562ab393",
   "metadata": {},
   "source": [
    "##### Testing"
   ]
  },
  {
   "cell_type": "code",
   "execution_count": 75,
   "id": "7e00eae9",
   "metadata": {},
   "outputs": [
    {
     "data": {
      "image/png": "[encoded data removed]",
      "text/plain": [
       "<Figure size 640x480 with 1 Axes>"
      ]
     },
     "metadata": {},
     "output_type": "display_data"
    }
   ],
   "source": [
    "result_y = []\n",
    "for i in range(len(test_x)):\n",
    "    result_y.append(110.28 + 53.01*test_x[i][0])\n",
    "\n",
    "'Ploting traing data'\n",
    "plt.scatter(train.Engine_Size, train.CO2_Emissions, color = 'blue')\n",
    "plt.xlabel('Engine Size')\n",
    "plt.ylabel('Emissions of CO2')\n",
    "\n",
    "\n",
    "\n",
    "plt.plot(test_x, result_y, '-r')\n",
    "plt.show()"
   ]
  },
  {
   "cell_type": "code",
   "execution_count": null,
   "id": "aafaf255",
   "metadata": {},
   "outputs": [],
   "source": []
  },
  {
   "cell_type": "code",
   "execution_count": 18,
   "id": "9b91fe90",
   "metadata": {},
   "outputs": [
    {
     "name": "stdout",
     "output_type": "stream",
     "text": [
      "Already up to date.\n"
     ]
    },
    {
     "name": "stderr",
     "output_type": "stream",
     "text": [
      "From https://github.com/Sajjad-Ahmad-phy/Final-Year-Project\n",
      " * branch            main       -> FETCH_HEAD\n"
     ]
    }
   ],
   "source": [
    "!git pull origin main"
   ]
  },
  {
   "cell_type": "code",
   "execution_count": 19,
   "id": "ce96e8e5",
   "metadata": {},
   "outputs": [
    {
     "name": "stderr",
     "output_type": "stream",
     "text": [
      "warning: in the working copy of 'TSP-3 QNN.ipynb', LF will be replaced by CRLF the next time Git touches it\n",
      "warning: in the working copy of 'TSP-4.ipynb', LF will be replaced by CRLF the next time Git touches it\n",
      "warning: in the working copy of '.ipynb_checkpoints/Training a simple linear regression ML model-checkpoint.ipynb', LF will be replaced by CRLF the next time Git touches it\n",
      "warning: in the working copy of 'Training a simple linear regression ML model.ipynb', LF will be replaced by CRLF the next time Git touches it\n"
     ]
    },
    {
     "name": "stdout",
     "output_type": "stream",
     "text": [
      "[main 36d100c] Your commit message\n",
      " 5 files changed, 567 insertions(+), 43 deletions(-)\n",
      " create mode 100644 .ipynb_checkpoints/Training a simple linear regression ML model-checkpoint.ipynb\n",
      " create mode 100644 1\n",
      " create mode 100644 Training a simple linear regression ML model.ipynb\n"
     ]
    }
   ],
   "source": [
    "!git add .\n",
    "!git commit -m \"Your commit message\""
   ]
  },
  {
   "cell_type": "code",
   "execution_count": 20,
   "id": "3eac8aed",
   "metadata": {},
   "outputs": [
    {
     "name": "stdout",
     "output_type": "stream",
     "text": [
      "branch 'main' set up to track 'origin/main'."
     ]
    },
    {
     "name": "stderr",
     "output_type": "stream",
     "text": [
      "To https://github.com/Sajjad-Ahmad-phy/Final-Year-Project.git\n",
      "   db56043..36d100c  main -> main\n"
     ]
    },
    {
     "name": "stdout",
     "output_type": "stream",
     "text": [
      "\n"
     ]
    }
   ],
   "source": [
    "!git push -u origin main"
   ]
  },
  {
   "cell_type": "code",
   "execution_count": null,
   "id": "128b337a",
   "metadata": {},
   "outputs": [],
   "source": []
  }
 ],
 "metadata": {
  "kernelspec": {
   "display_name": "Python 3 (ipykernel)",
   "language": "python",
   "name": "python3"
  },
  "language_info": {
   "codemirror_mode": {
    "name": "ipython",
    "version": 3
   },
   "file_extension": ".py",
   "mimetype": "text/x-python",
   "name": "python",
   "nbconvert_exporter": "python",
   "pygments_lexer": "ipython3",
   "version": "3.9.13"
  }
 },
 "nbformat": 4,
 "nbformat_minor": 5
}
