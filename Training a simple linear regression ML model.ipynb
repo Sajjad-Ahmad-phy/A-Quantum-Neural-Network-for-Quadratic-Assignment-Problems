{
 "cells": [
  {
   "cell_type": "markdown",
   "id": "10aaa12e",
   "metadata": {},
   "source": [
    "#### Data\n",
    "\n",
    "* Fuel consumption and CO_2 emission"
   ]
  },
  {
   "cell_type": "code",
   "execution_count": 2,
   "id": "d61e4c50",
   "metadata": {},
   "outputs": [],
   "source": [
    "import numpy as np\n",
    "import pandas as pd\n",
    "import matplotlib.pyplot as plt"
   ]
  },
  {
   "cell_type": "code",
   "execution_count": 3,
   "id": "7d950056",
   "metadata": {},
   "outputs": [
    {
     "data": {
      "image/png": "[encoded data removed]",
      "text/plain": [
       "<Figure size 640x480 with 1 Axes>"
      ]
     },
     "metadata": {},
     "output_type": "display_data"
    }
   ],
   "source": [
    "\n",
    "\n",
    "df = pd.read_csv(\"D:\\Sajjad Ahmad\\Jupyter Projects\\QML\\Fuel Consumption Ratings.csv\", encoding = 'latin-1')\n",
    "\n",
    "'Taking a look at the data'\n",
    "# df.head()\n",
    "\n",
    "'Describing data'\n",
    "# df.describe()\n",
    "\n",
    "'Selecting some features'\n",
    "cdf = df[['Engine_Size', 'CO2_Emissions']]\n",
    "\n",
    "# cdf.head(10)\n",
    "\n",
    "\n",
    "\n",
    "\"\"\"\n",
    "Drawing a scatter plot:\n",
    "1. Engine Size Vs Emission of CO2\n",
    "\n",
    "\"\"\"\n",
    "\n",
    "plt.scatter(cdf.Engine_Size, cdf.CO2_Emissions, color = 'blue')\n",
    "plt.xlabel('Engine Size')\n",
    "plt.ylabel('CO2_Emission')\n",
    "plt.show()"
   ]
  },
  {
   "cell_type": "code",
   "execution_count": null,
   "id": "7f183462",
   "metadata": {},
   "outputs": [],
   "source": []
  },
  {
   "cell_type": "markdown",
   "id": "470b643a",
   "metadata": {},
   "source": [
    "* Dataset \n",
    "\n",
    "<h1 align='center'><font size=2> \\begin{equation} data = \\begin{bmatrix}\n",
    "X ~~(Engine~~ Size) \\\\\n",
    "Y ~~(CO2~~ Emission)\n",
    "\\end{bmatrix} \\end{equation}  </font></h1>\n",
    "\n",
    "* The hypothesis function:\n",
    "\n",
    "<h1 align='center'><font size=3>$h(\\theta) = \\theta_0 + \\theta_1 X$ </font></h1> ; $\\theta_0$ is the initial value\n",
    "\n",
    "* Mean square error (MQE) function:\n",
    "<h1 align='center'><font size=3>$C(\\theta) = \\frac{1}{2m} \\left( h(\\theta) - Y \\right)^{2}$ </font></h1> ; where m is the number of examples\n",
    "\n",
    "By putting the hypothesis function above function the MSE func will be\n",
    "\n",
    "<h1 align='center'><font size=3>$C(\\theta) = \\frac{1}{2m} \\sum_{i=1}^{m} \\left(\\theta_0 + \\theta_1 x^i - y^i \\right)^{2}$ </font></h1>\n",
    "\n",
    "This function will be used as a cost function to be minimized for the value of $\\theta$ using gradient descent method\n"
   ]
  },
  {
   "cell_type": "code",
   "execution_count": null,
   "id": "7e174a7b",
   "metadata": {},
   "outputs": [],
   "source": []
  },
  {
   "cell_type": "markdown",
   "id": "e5089b46",
   "metadata": {},
   "source": [
    "#### Gradient descent\n",
    "\n",
    "<h1 align='center'><font size=3>$ \\theta (n+1) = \\theta(n) - \\alpha \\nabla C(\\theta)$ </font></h1>\n",
    "\n",
    "<h1 align='center'><font size=3>$  \\nabla C(\\theta) = \\begin{bmatrix} \\frac{\\partial C}{\\partial \\theta_0} \\\\\n",
    "\\frac{\\partial C}{\\partial \\theta_1}  \\end{bmatrix}$ </font></h1>\n",
    "\n",
    "<h1 align='center'><font size=3>$  \\nabla C(\\theta) = \\begin{bmatrix} \\frac{1}{m} \\sum_{i=1}^{m} \\left(\\theta_0 + \\theta_1 x^i - y^i \\right) \\\\\n",
    "\\frac{1}{m} \\sum_{i=1}^{m} \\left(\\theta_0 + \\theta_1 x^i - y^i \\right)\\theta_1  \\end{bmatrix}$ </font></h1>"
   ]
  },
  {
   "cell_type": "code",
   "execution_count": null,
   "id": "a08d2f4d",
   "metadata": {},
   "outputs": [],
   "source": []
  },
  {
   "cell_type": "markdown",
   "id": "b75660c6",
   "metadata": {},
   "source": [
    "##### Splitting the dataset\n",
    "\n",
    "* Splitting dataset into train and test sets: 80% data for training and 20% for testing"
   ]
  },
  {
   "cell_type": "code",
   "execution_count": 8,
   "id": "a3185ba0",
   "metadata": {},
   "outputs": [],
   "source": [
    "'Splitting dataset into train and test sets: 80% data for training and 20% for testing'\n",
    "msk = np.random.rand(len(df)) < 0.8   #it creates an array of Boleans True and False of the length of data set\n",
    "train = cdf[msk]\n",
    "test = cdf[~msk]\n",
    "\n",
    "train_x = np.asanyarray(train[['Engine_Size']])\n",
    "train_y = np.asanyarray(train[['CO2_Emissions']])"
   ]
  },
  {
   "cell_type": "code",
   "execution_count": null,
   "id": "76cf8cfb",
   "metadata": {},
   "outputs": [],
   "source": []
  },
  {
   "cell_type": "code",
   "execution_count": 17,
   "id": "c19fac5b",
   "metadata": {},
   "outputs": [],
   "source": [
    "tol=1e-6"
   ]
  },
  {
   "cell_type": "code",
   "execution_count": null,
   "id": "64ffe6b4",
   "metadata": {},
   "outputs": [],
   "source": []
  },
  {
   "cell_type": "code",
   "execution_count": null,
   "id": "57392323",
   "metadata": {},
   "outputs": [],
   "source": []
  },
  {
   "cell_type": "code",
   "execution_count": null,
   "id": "c8112a6d",
   "metadata": {},
   "outputs": [],
   "source": []
  },
  {
   "cell_type": "code",
   "execution_count": 18,
   "id": "db980242",
   "metadata": {},
   "outputs": [
    {
     "name": "stdout",
     "output_type": "stream",
     "text": [
      "Already up to date.\n"
     ]
    },
    {
     "name": "stderr",
     "output_type": "stream",
     "text": [
      "From https://github.com/Sajjad-Ahmad-phy/Final-Year-Project\n",
      " * branch            main       -> FETCH_HEAD\n"
     ]
    }
   ],
   "source": [
    "!git pull origin main"
   ]
  },
  {
   "cell_type": "code",
   "execution_count": null,
   "id": "b6bb3eb5",
   "metadata": {},
   "outputs": [],
   "source": [
    "!git add .\n",
    "!git commit -m \"Your commit message\""
   ]
  },
  {
   "cell_type": "code",
   "execution_count": null,
   "id": "ff8e1b56",
   "metadata": {},
   "outputs": [],
   "source": [
    "!git push -u origin main"
   ]
  }
 ],
 "metadata": {
  "kernelspec": {
   "display_name": "Python 3 (ipykernel)",
   "language": "python",
   "name": "python3"
  },
  "language_info": {
   "codemirror_mode": {
    "name": "ipython",
    "version": 3
   },
   "file_extension": ".py",
   "mimetype": "text/x-python",
   "name": "python",
   "nbconvert_exporter": "python",
   "pygments_lexer": "ipython3",
   "version": "3.9.13"
  }
 },
 "nbformat": 4,
 "nbformat_minor": 5
}
