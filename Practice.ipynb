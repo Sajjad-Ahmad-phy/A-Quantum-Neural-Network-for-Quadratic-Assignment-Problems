{
 "cells": [
  {
   "cell_type": "code",
   "execution_count": 1,
   "id": "52789893",
   "metadata": {},
   "outputs": [],
   "source": [
    "import numpy as np\n",
    "import openpyxl\n",
    "import ast\n",
    "from sympy.physics.quantum import TensorProduct\n",
    "from sympy import Matrix\n",
    "import numpy as np"
   ]
  },
  {
   "cell_type": "code",
   "execution_count": 2,
   "id": "35621016",
   "metadata": {},
   "outputs": [],
   "source": [
    "path = \"C:\\\\Users\\\\LENOVO\\\\OneDrive - National University of Sciences & Technology\\\\Academia\\\\FYP\\\\TSP-4.xlsx\"\n",
    "\n",
    "wb = openpyxl.load_workbook(path)\n",
    "ws = wb.active"
   ]
  },
  {
   "cell_type": "code",
   "execution_count": 8,
   "id": "3ead5e08",
   "metadata": {},
   "outputs": [],
   "source": [
    "def distance(i):\n",
    "    distance_matrix =np.array(ast.literal_eval(ws[f'A{i+2}'].value))\n",
    "    m2 = np.array(ast.literal_eval(ws[f'D{i+2}'].value))\n",
    "    return distance_matrix"
   ]
  },
  {
   "cell_type": "code",
   "execution_count": 14,
   "id": "ac3d3d5a",
   "metadata": {},
   "outputs": [],
   "source": [
    "n = 4\n",
    "beta_para = 1.39957953\n",
    "theta1 = [1.9026521]\n",
    "theta2 = [2.22944427]\n",
    "alpha = [5.56530919]\n",
    "\n",
    "\n",
    "initial_point = np.array([beta_para for i in range(n*n)]+[theta1[0] for i in range(n*n)]+\n",
    "                         [theta2[0] for i in range(n*n)]+[alpha[0] for i in range(n*n)])\n",
    "\n",
    "reference_circuit = QuantumCircuit(n*n)      # Circuit to which data be encoded\n",
    "variational_circuit = QuantumCircuit(n*n)     # Circuit for\n",
    "\n",
    "\n",
    "loss = 0\n",
    "MCRX=RXGate(beta_para).control(6, ctrl_state='000000')"
   ]
  },
  {
   "cell_type": "code",
   "execution_count": null,
   "id": "1230791b",
   "metadata": {},
   "outputs": [],
   "source": [
    "for K in range(10):\n",
    "    TSP = TSP_Solver(reference_circuit, variational_circuit, MCRX, n, K, theta1, theta2, alpha, loss)\n",
    "\n",
    "    def objective_function(params):\n",
    "\n",
    "        theta1_values = params[16:32]  # Extract first 9 values for theta1\n",
    "        theta2_values = params[32:48]  # Extract next 9 values for theta2\n",
    "        alpha = params[48:64]  # Extract alpha\n",
    "        beta_para = params[:1]  # Extract beta_para\n",
    "\n",
    "        # Set theta1 and theta2 values\n",
    "        TSP.theta1 = theta1_values\n",
    "        TSP.theta2 = theta2_values\n",
    "        TSP.alpha = alpha\n",
    "\n",
    "        # Update the beta_para for MCRX gate\n",
    "        beta_angle = beta_para[0]  # Assuming you want to use the first value from beta_para\n",
    "        MCRX = RXGate(beta_angle).control(6, ctrl_state='000000')\n",
    "        TSP.MCRX = MCRX\n",
    "\n",
    "        # Run the quantum neural network and compute loss\n",
    "        obj_loss = call_pass_obj_fun(TSP)\n",
    "        loss += obj_loss\n",
    "        \n",
    "        return loss\n",
    "\n",
    "    def gradient_function(params):\n",
    "\n",
    "        epsilon = 1e-6  # pert value\n",
    "\n",
    "        initial_loss = objective_function(params)\n",
    "\n",
    "        params_plus = params.copy() + epsilon\n",
    "\n",
    "        loss_plus = objective_function(params_plus)\n",
    "\n",
    "        gradient = (loss_plus - initial_loss) / epsilon\n",
    "\n",
    "        return gradient\n",
    "\n",
    "    # Instantiate Adam optimizer\n",
    "    adam_optimizer = ADAM(maxiter= 1, tol=1e-06, lr=0.1, beta_1=0.9,\n",
    "                          beta_2=0.99, noise_factor=1e-08, eps=1e-10, amsgrad=False, snapshot_dir=None)\n",
    "\n",
    "    # Run optimization\n",
    "    result = adam_optimizer.minimize(objective_function, initial_point, gradient_function)\n",
    "    initial_point = result.x"
   ]
  },
  {
   "cell_type": "code",
   "execution_count": null,
   "id": "29f9f41d",
   "metadata": {},
   "outputs": [],
   "source": []
  },
  {
   "cell_type": "code",
   "execution_count": 5,
   "id": "8ced1344",
   "metadata": {},
   "outputs": [
    {
     "name": "stdout",
     "output_type": "stream",
     "text": [
      "[[ 0  0  0  0  6  9  0  8 12]\n",
      " [ 0  0  0  6  0 12  8  0 16]\n",
      " [ 0  0  0  9 12  0 12 16  0]\n",
      " [ 0  6  9  0  0  0  0  2  3]\n",
      " [ 6  0 12  0  0  0  2  0  4]\n",
      " [ 9 12  0  0  0  0  3  4  0]\n",
      " [ 0  8 12  0  2  3  0  0  0]\n",
      " [ 8  0 16  2  0  4  0  0  0]\n",
      " [12 16  0  3  4  0  0  0  0]]\n"
     ]
    }
   ],
   "source": [
    "# TSP- 4 distance matrix\n",
    "D = np.array([[0, 2, 3],\n",
    "              [2, 0, 4],\n",
    "              [3, 4, 0]])\n",
    "\n",
    "\n",
    "F = np.array([[0, 3, 4],\n",
    "              [3, 0, 1],\n",
    "              [4, 1, 0 ]])\n",
    "\n",
    "\n",
    "'Affinity matrix'\n",
    "K = TensorProduct(F, D)\n",
    "print(K)"
   ]
  },
  {
   "cell_type": "code",
   "execution_count": null,
   "id": "2efca087",
   "metadata": {},
   "outputs": [],
   "source": []
  }
 ],
 "metadata": {
  "kernelspec": {
   "display_name": "Python 3 (ipykernel)",
   "language": "python",
   "name": "python3"
  },
  "language_info": {
   "codemirror_mode": {
    "name": "ipython",
    "version": 3
   },
   "file_extension": ".py",
   "mimetype": "text/x-python",
   "name": "python",
   "nbconvert_exporter": "python",
   "pygments_lexer": "ipython3",
   "version": "3.9.13"
  }
 },
 "nbformat": 4,
 "nbformat_minor": 5
}
