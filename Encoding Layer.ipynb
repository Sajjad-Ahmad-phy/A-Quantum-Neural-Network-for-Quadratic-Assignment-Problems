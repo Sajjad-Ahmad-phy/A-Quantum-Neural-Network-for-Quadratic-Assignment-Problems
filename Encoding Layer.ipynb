{
 "cells": [
  {
   "cell_type": "code",
   "execution_count": 1,
   "id": "cf32d866",
   "metadata": {},
   "outputs": [],
   "source": [
    "from qiskit import QuantumCircuit\n",
    "from qiskit.circuit.library import MCXGate, RXGate, RZZGate\n",
    "from qiskit.circuit import Parameter\n",
    "from sympy.physics.quantum import TensorProduct\n",
    "from sympy import Matrix\n",
    "import numpy as np"
   ]
  },
  {
   "cell_type": "code",
   "execution_count": 2,
   "id": "ba94cced",
   "metadata": {},
   "outputs": [],
   "source": [
    "def adjacency_matrix(V, edges):\n",
    "    # Initialize an empty V x V matrix with all zeros\n",
    "    matrix = [[0] * V for _ in range(V)]\n",
    "    \n",
    "    # Populate the matrix based on the edges\n",
    "    for edge in edges:\n",
    "        u, v = edge\n",
    "        matrix[u][v] = 1\n",
    "        matrix[v][u] = 1  # Undirected graph\n",
    "    \n",
    "    return np.array(matrix)"
   ]
  },
  {
   "cell_type": "code",
   "execution_count": 4,
   "id": "cb663372",
   "metadata": {},
   "outputs": [
    {
     "name": "stdout",
     "output_type": "stream",
     "text": [
      "[[0. 0. 0. 0. 2. 3. 0. 2. 3.]\n",
      " [0. 0. 0. 2. 0. 5. 2. 0. 5.]\n",
      " [0. 0. 0. 3. 5. 0. 3. 5. 0.]\n",
      " [0. 2. 3. 0. 0. 0. 0. 2. 3.]\n",
      " [2. 0. 5. 0. 0. 0. 2. 0. 5.]\n",
      " [3. 5. 0. 0. 0. 0. 3. 5. 0.]\n",
      " [0. 2. 3. 0. 2. 3. 0. 0. 0.]\n",
      " [2. 0. 5. 2. 0. 5. 0. 0. 0.]\n",
      " [3. 5. 0. 3. 5. 0. 0. 0. 0.]]\n"
     ]
    }
   ],
   "source": [
    "'Distance Matrix'\n",
    "D = np.array([[0.        ,2 , 3],\n",
    " [2, 0.        , 5 ],\n",
    " [3, 5 , 0.        ]])\n",
    "\n",
    "'Number of Nodes'\n",
    "V = 3\n",
    "edges = [(0, 1), (1, 2), (2, 0)]\n",
    "\n",
    "'Adjacency matrix'\n",
    "A = adjacency_matrix(V, edges)\n",
    "\n",
    "'Affinity matrix'\n",
    "K = TensorProduct(A, D)\n",
    "print(K)"
   ]
  },
  {
   "cell_type": "code",
   "execution_count": null,
   "id": "54596a7e",
   "metadata": {},
   "outputs": [],
   "source": []
  }
 ],
 "metadata": {
  "kernelspec": {
   "display_name": "Python 3 (ipykernel)",
   "language": "python",
   "name": "python3"
  },
  "language_info": {
   "codemirror_mode": {
    "name": "ipython",
    "version": 3
   },
   "file_extension": ".py",
   "mimetype": "text/x-python",
   "name": "python",
   "nbconvert_exporter": "python",
   "pygments_lexer": "ipython3",
   "version": "3.9.13"
  }
 },
 "nbformat": 4,
 "nbformat_minor": 5
}
