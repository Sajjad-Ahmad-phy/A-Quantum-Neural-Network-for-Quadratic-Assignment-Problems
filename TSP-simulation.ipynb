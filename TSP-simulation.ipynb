{
 "cells": [
  {
   "cell_type": "markdown",
   "id": "9ed0c7e7-9923-48ab-8e40-c7576e0f9837",
   "metadata": {
    "tags": []
   },
   "source": [
    "#### Simulating the travelling salesman problem with three cities."
   ]
  },
  {
   "cell_type": "markdown",
   "id": "de8d5605-c967-4a8d-8601-c7bfcfd859fb",
   "metadata": {},
   "source": [
    "* Importing important libraries"
   ]
  },
  {
   "cell_type": "code",
   "execution_count": 2,
   "id": "fc188acb",
   "metadata": {},
   "outputs": [],
   "source": [
    "from qiskit import *\n",
    "from qiskit.circuit import parameter\n",
    "from qiskit.circuit import ParameterVector, Parameter\n",
    "from qiskit.visualization import plot_histogram\n",
    "from IPython.core.display import Latex\n",
    "from qiskit_algorithms.optimizers import ADAM, COBYLA\n",
    "from qiskit_algorithms.gradients import SPSAEstimatorGradient\n",
    "from qiskit_aer import AerSimulator, StatevectorSimulator\n",
    "import numpy as np\n",
    "import ot\n",
    "import re\n",
    "from qiskit.circuit.library.standard_gates import RXGate, RYGate, RZGate"
   ]
  },
  {
   "cell_type": "markdown",
   "id": "29986810",
   "metadata": {},
   "source": [
    "* Cost Matrix"
   ]
  },
  {
   "cell_type": "code",
   "execution_count": 5,
   "id": "02a74eab",
   "metadata": {},
   "outputs": [],
   "source": [
    "# Tsp-4\n",
    "K = np.array([[0.        ,0.54194679,0.58401706,0.19804715],\n",
    " [0.54194679,0.        ,0.77658693,0.43439787],\n",
    " [0.58401706,0.77658693,0.        ,0.73731612],\n",
    " [0.19804715,0.43439787,0.73731612,0.        ]])\n",
    "K = K.flatten()"
   ]
  },
  {
   "cell_type": "code",
   "execution_count": 3,
   "id": "5b750e04",
   "metadata": {},
   "outputs": [],
   "source": [
    "# TSP- 3\n",
    "\n",
    "# K = np.array([[0.        ,0.81721768,0.55177632],\n",
    "#  [0.81721768,0.        ,0.6720918 ],\n",
    "#  [0.55177632,0.6720918 ,0.        ]])\n",
    "\n",
    "# K = K.flatten()"
   ]
  },
  {
   "cell_type": "code",
   "execution_count": 15,
   "id": "8f330131",
   "metadata": {},
   "outputs": [],
   "source": [
    "# n = 4\n",
    "# beta_para = 5.11401041\n",
    "# theta1 = [-0.2132781]\n",
    "# theta2 = [0.98435579]\n",
    "# alpha = [3.00780862]"
   ]
  },
  {
   "cell_type": "code",
   "execution_count": null,
   "id": "9eb222ac",
   "metadata": {},
   "outputs": [],
   "source": []
  },
  {
   "cell_type": "markdown",
   "id": "6aab2310",
   "metadata": {},
   "source": [
    "* Parameters"
   ]
  },
  {
   "cell_type": "code",
   "execution_count": 4,
   "id": "4137feb9",
   "metadata": {},
   "outputs": [],
   "source": [
    "n = 4    # Number of cities\n",
    "beta_para = (2 * np.pi * np.random.rand(1))[0]         # Beta parameters\n",
    "theta1 = (2 * np.pi * np.random.rand(1))        # Perceptron layers 1st parameters\n",
    "theta2 =(2 * np.pi * np.random.rand(1))   # Perceptron layers 2nd parameters\n",
    "alpha = (2 * np.pi * np.random.rand(1))       # Alpha parameters for pooling layer\n",
    "\n",
    "# initial_point = np.array([beta_para for i in range(n*n)]+[theta1[0] for i in range(n*n)]+\n",
    "#                          [theta2[0] for i in range(n*n)]+[alpha[0] for i in range(n*n)])\n"
   ]
  },
  {
   "cell_type": "code",
   "execution_count": null,
   "id": "3d7707e8",
   "metadata": {},
   "outputs": [],
   "source": []
  },
  {
   "cell_type": "code",
   "execution_count": 8,
   "id": "680e08ce",
   "metadata": {},
   "outputs": [],
   "source": [
    "class TSP_Solver:\n",
    "    def __init__(self, reference_circuit, variational_circuit,MCRX, n, K, theta1, theta2, alpha, matching_matrix, loss):\n",
    "        self.ref_cir = reference_circuit\n",
    "        self.var_cir = variational_circuit\n",
    "        self.MCRX = MCRX\n",
    "        self.n = n\n",
    "        self.n1 = n*n  # Squared of number of cities\n",
    "        self.K = K\n",
    "        self.alpha = alpha\n",
    "        self.theta1 = theta1\n",
    "        self.theta2 = theta2\n",
    "        self.matching_matrix = matching_matrix  # A constraint matrix for matching with the ground truth\n",
    "        self.loss = loss\n",
    "    \n",
    "    \"Creating an object of encoding layer\"\n",
    "    def encoding_layer(self):\n",
    "        for q in range(len(self.K)):\n",
    "            self.ref_cir.ry(self.K[q], q)\n",
    "        self.ref_cir.barrier()\n",
    "    \n",
    "    'Function that return the ctrl qubits for constrained layer'\n",
    "    def ctrl_qubits(self, matrix, row_idx, col_idx):\n",
    "        neighbors = []\n",
    "        num_rows = len(matrix)\n",
    "        num_cols = len(matrix[0])\n",
    "\n",
    "        # Add neighbors from the same row\n",
    "        for j in range(num_cols):\n",
    "            if j != col_idx:  # Exclude the element itself\n",
    "                neighbors.append(matrix[row_idx][j])\n",
    "\n",
    "        # Add neighbors from the same column\n",
    "        for i in range(num_rows):\n",
    "            if i != row_idx:  # Exclude the element itself\n",
    "                neighbors.append(matrix[i][col_idx])\n",
    "\n",
    "        return neighbors\n",
    "            \n",
    "    \"Defining contraint layer\"\n",
    "    def constraint_layer(self): \n",
    "        matrix = np.array([i for i in range(self.n*self.n)]).reshape(self.n, self.n)\n",
    "        for i in range(self.n):\n",
    "            for j in range(self.n):  \n",
    "                ctrl = list(self.ctrl_qubits(matrix, i, j))+[matrix[i][j]]\n",
    "                self.var_cir.append(self.MCRX, ctrl)\n",
    "                \n",
    "        self.var_cir.barrier()\n",
    "    \n",
    "    \"Perceptron layer\"\n",
    "    def perceptron_layer(self):\n",
    "        rz = RZGate(self.theta1[0])\n",
    "        ry = RYGate(self.theta2[0])\n",
    "        for q in range(self.n1):\n",
    "            self.var_cir.append(rz, [q])\n",
    "            self.var_cir.append(ry, [q])\n",
    "        self.var_cir.barrier()\n",
    "               \n",
    "    'Pooling Layer'\n",
    "    def pooling_layer(self):\n",
    "        ry = RYGate(self.alpha[0])\n",
    "        for q in range(self.n1):\n",
    "            self.var_cir.append(ry, [q])\n",
    "    \n",
    "    'composing the reference and variational circuits'\n",
    "    # The circuit can be visualized as well from here.\n",
    "    def ansatz(self):\n",
    "        ansat = self.ref_cir.compose(self.var_cir)\n",
    "        ansat.measure_all()\n",
    "        return ansat\n",
    "    \n",
    "    'Statvector simulating'\n",
    "    def statevect(self):\n",
    "        simulator = StatevectorSimulator()\n",
    "        result= simulator.run(transpile(self.ansatz(), simulator), shots = 1000).result()\n",
    "        statevector = result.get_statevector()\n",
    "        return statevector.draw('latex')\n",
    "    \n",
    "    'Reshaping result to matrix'\n",
    "    def x_matrix(self):\n",
    "        latex_string = self.statevect().data     # Stores the statevector as a latex string5\n",
    "        latex_list = list(latex_string)        # This object stores the statevector as a list\n",
    "        \n",
    "        'Extracting only the states of the qubits'\n",
    "        a = latex_list.index('|')\n",
    "        b = latex_list.index('\\\\')\n",
    "        y = latex_list[a+1:b]\n",
    "        y1 = np.array([int(i) for i in y])\n",
    "        Y1 = y1.reshape(self.n, self.n)  # Reshaping the measured states of qubits to a matrix \n",
    "        return Y1\n",
    "        \n",
    "#         # Define the size of marginals\n",
    "#         n = Y1.shape[0]\n",
    "#         m = Y1.shape[1]\n",
    "        \n",
    "#         # Define the cost matrix with the matching constraint\n",
    "#         cost_matrix = np.multiply(Y1, self.matching_matrix) # Element-wise multiplication to zero out non-matching elements\n",
    "\n",
    "#         # Apply Sinkhorn algorithm to converge to a doubly stochastic matrix with the matching constraint\n",
    "#         X_ds = ot.sinkhorn(np.ones(n) / n, np.ones(m) / m, cost_matrix, reg=0.01)\n",
    "#         return X_ds\n",
    "    \n",
    "    def cost_fun(self):\n",
    "        \"\"\"Cost function of circuit parameters on training data.\n",
    "            The optimizer will attempt to minimize this.\"\"\"\n",
    "        X = list(self.matching_matrix.flatten())\n",
    "        Y = list(self.x_matrix().flatten())\n",
    "        for i in range(len(X)):\n",
    "            self.loss += (-X[i]*np.log(Y[i]) + (1-X[i])*np.log(1-Y[i]))\n",
    "        return self.loss\n"
   ]
  },
  {
   "cell_type": "markdown",
   "id": "05abe8f1",
   "metadata": {},
   "source": [
    "#### Calling the whole class here\n",
    "* Number of Cities 'n'\n",
    "* Quantum circuit \n",
    "* Applying Hadammard to all qubits"
   ]
  },
  {
   "cell_type": "code",
   "execution_count": 10,
   "id": "6f7c17b0",
   "metadata": {},
   "outputs": [],
   "source": [
    "def call_pass_obj_fun(TSP):\n",
    "    TSP.encoding_layer()\n",
    "    TSP.constraint_layer()\n",
    "    TSP.perceptron_layer()\n",
    "    TSP.pooling_layer()\n",
    "    TSP.ansatz()\n",
    "    TSP.statevect()\n",
    "    TSP.x_matrix()\n",
    "    TSP.cost_fun()\n",
    "    return TSP.loss\n",
    "    \n",
    "    \n",
    "# Define the matching constraint\n",
    "m_c = np.array([[1 ,0.,0., 0.],\n",
    "                 [0.,0 ,1,0.],\n",
    "                 [0.,1,0,0.],\n",
    "                 [0, 0.,0., 1]])\n",
    "\n",
    "\n",
    "reference_circuit = QuantumCircuit(n*n)      # Circuit to which data be encoded\n",
    "reference_circuit.h([i for i in range(n*n)])     \n",
    "variational_circuit = QuantumCircuit(n*n)     # Circuit for\n",
    "\n",
    "loss = 0\n",
    "#Preparing the multi-controlled X rotational gat\n",
    "MCRX=RXGate(beta_para).control(6, ctrl_state='000000')\n",
    "\n",
    "TSP = TSP_Solver(reference_circuit, variational_circuit, MCRX, n, K, theta1, theta2, alpha, m_c, loss)"
   ]
  },
  {
   "cell_type": "markdown",
   "id": "e8dcc3a2",
   "metadata": {},
   "source": [
    "##### Objective function for optimizer"
   ]
  },
  {
   "cell_type": "code",
   "execution_count": 7,
   "id": "0cebd24a",
   "metadata": {},
   "outputs": [],
   "source": [
    "def objective_function(params):\n",
    "\n",
    "    theta1_values = params[9:18]  # Extract first 9 values for theta1\n",
    "    theta2_values = params[18:27]  # Extract next 9 values for theta2\n",
    "    alpha = params[27:36]  # Extract alpha\n",
    "    beta_para = params[:1]  # Extract beta_para\n",
    "\n",
    "    # Set theta1 and theta2 values\n",
    "    TSP.theta1 = theta1_values\n",
    "    TSP.theta2 = theta2_values\n",
    "    TSP.alpha = alpha\n",
    "\n",
    "    # Update the beta_para for MCRX gate\n",
    "    beta_angle = beta_para[0]  # Assuming you want to use the first value from beta_para\n",
    "    MCRX = RXGate(beta_angle).control(6, ctrl_state='000000')\n",
    "    TSP.MCRX = MCRX\n",
    "    \n",
    "    # Run the quantum neural network and compute loss\n",
    "    obj_loss = call_pass_obj_fun(TSP)\n",
    "    return obj_loss"
   ]
  },
  {
   "cell_type": "markdown",
   "id": "728168ee",
   "metadata": {},
   "source": [
    "##### Gradient for the optimizer\n"
   ]
  },
  {
   "cell_type": "code",
   "execution_count": 8,
   "id": "bd37ba0c",
   "metadata": {},
   "outputs": [],
   "source": [
    "def gradient_function(params):\n",
    "\n",
    "    epsilon = 1e-6  # pert value\n",
    "\n",
    "    initial_loss = objective_function(params)\n",
    "\n",
    "    params_plus = params.copy()+2*epsilon\n",
    "    \n",
    "    loss_plus = objective_function(params_plus)\n",
    "    \n",
    "    gradient = (loss_plus - initial_loss) / 2*epsilon\n",
    "\n",
    "    return gradient"
   ]
  },
  {
   "cell_type": "code",
   "execution_count": null,
   "id": "5385033f",
   "metadata": {},
   "outputs": [],
   "source": []
  },
  {
   "cell_type": "code",
   "execution_count": 9,
   "id": "5649da24",
   "metadata": {},
   "outputs": [
    {
     "data": {
      "text/plain": [
       "array([ 5.11401041,  5.11401041,  5.11401041,  5.11401041,  5.11401041,\n",
       "        5.11401041,  5.11401041,  5.11401041,  5.11401041,  5.11401041,\n",
       "        5.11401041,  5.11401041,  5.11401041,  5.11401041,  5.11401041,\n",
       "        5.11401041, -0.2132781 , -0.2132781 , -0.2132781 , -0.2132781 ,\n",
       "       -0.2132781 , -0.2132781 , -0.2132781 , -0.2132781 , -0.2132781 ,\n",
       "       -0.2132781 , -0.2132781 , -0.2132781 , -0.2132781 , -0.2132781 ,\n",
       "       -0.2132781 , -0.2132781 ,  0.98435579,  0.98435579,  0.98435579,\n",
       "        0.98435579,  0.98435579,  0.98435579,  0.98435579,  0.98435579,\n",
       "        0.98435579,  0.98435579,  0.98435579,  0.98435579,  0.98435579,\n",
       "        0.98435579,  0.98435579,  0.98435579,  3.00780862,  3.00780862,\n",
       "        3.00780862,  3.00780862,  3.00780862,  3.00780862,  3.00780862,\n",
       "        3.00780862,  3.00780862,  3.00780862,  3.00780862,  3.00780862,\n",
       "        3.00780862,  3.00780862,  3.00780862,  3.00780862])"
      ]
     },
     "execution_count": 9,
     "metadata": {},
     "output_type": "execute_result"
    }
   ],
   "source": [
    "\n",
    "initial_point = np.array([beta_para for i in range(n*n)]+[theta1[0] for i in range(n*n)]+\n",
    "                         [theta2[0] for i in range(n*n)]+[alpha[0] for i in range(n*n)])-\n",
    "\n",
    "# Instantiate Adam optimizer\n",
    "adam_optimizer = ADAM(maxiter= 2, tol=1e-06, lr=0.5, beta_1=0.9,\n",
    "                      beta_2=0.99, noise_factor=1e-08, eps=1e-10, amsgrad=False, snapshot_dir=None)\n",
    "\n",
    "# Run optimization\n",
    "result = adam_optimizer.minimize(objective_function, initial_point, gradient_function)\n",
    "result.x"
   ]
  },
  {
   "cell_type": "code",
   "execution_count": null,
   "id": "cabbf2e7",
   "metadata": {},
   "outputs": [],
   "source": []
  },
  {
   "cell_type": "code",
   "execution_count": null,
   "id": "85135db5",
   "metadata": {},
   "outputs": [],
   "source": []
  },
  {
   "cell_type": "markdown",
   "id": "fb8f32c5",
   "metadata": {},
   "source": [
    "###### A main function from where the whole class or TSP-Simulation be controlled"
   ]
  },
  {
   "cell_type": "code",
   "execution_count": 113,
   "id": "e6e3bad4",
   "metadata": {},
   "outputs": [
    {
     "name": "stderr",
     "output_type": "stream",
     "text": [
      "warning: in the working copy of '.ipynb_checkpoints/Not_MCRX-checkpoint.ipynb', LF will be replaced by CRLF the next time Git touches it\n",
      "warning: in the working copy of '.ipynb_checkpoints/TSP-simulation-checkpoint.ipynb', LF will be replaced by CRLF the next time Git touches it\n",
      "warning: in the working copy of 'Not_MCRX.ipynb', LF will be replaced by CRLF the next time Git touches it\n",
      "warning: in the working copy of 'TSP-simulation.ipynb', LF will be replaced by CRLF the next time Git touches it\n",
      "warning: in the working copy of 'TSP_simulation_classically.ipynb', LF will be replaced by CRLF the next time Git touches it\n",
      "warning: in the working copy of '.ipynb_checkpoints/Training TSP-Solver-checkpoint.ipynb', LF will be replaced by CRLF the next time Git touches it\n",
      "warning: in the working copy of '.ipynb_checkpoints/Untitled-checkpoint.ipynb', LF will be replaced by CRLF the next time Git touches it\n",
      "warning: in the working copy of 'Training TSP-Solver.ipynb', LF will be replaced by CRLF the next time Git touches it\n",
      "warning: in the working copy of 'Untitled.ipynb', LF will be replaced by CRLF the next time Git touches it\n"
     ]
    },
    {
     "name": "stdout",
     "output_type": "stream",
     "text": [
      "[main a2ff8a4] Your commit message\n",
      " 9 files changed, 1811 insertions(+), 478 deletions(-)\n",
      " create mode 100644 .ipynb_checkpoints/Training TSP-Solver-checkpoint.ipynb\n",
      " create mode 100644 .ipynb_checkpoints/Untitled-checkpoint.ipynb\n",
      " create mode 100644 Training TSP-Solver.ipynb\n",
      " create mode 100644 Untitled.ipynb\n"
     ]
    }
   ],
   "source": [
    "!git add .\n",
    "!git commit -m \"Your commit message\""
   ]
  },
  {
   "cell_type": "code",
   "execution_count": 114,
   "id": "4e9542fb",
   "metadata": {},
   "outputs": [
    {
     "name": "stderr",
     "output_type": "stream",
     "text": [
      "To https://github.com/Sajjad-Ahmad-phy/Final-Year-Project.git\n",
      " ! [rejected]        main -> main (fetch first)\n",
      "error: failed to push some refs to 'https://github.com/Sajjad-Ahmad-phy/Final-Year-Project.git'\n",
      "hint: Updates were rejected because the remote contains work that you do\n",
      "hint: not have locally. This is usually caused by another repository pushing\n",
      "hint: to the same ref. You may want to first integrate the remote changes\n",
      "hint: (e.g., 'git pull ...') before pushing again.\n",
      "hint: See the 'Note about fast-forwards' in 'git push --help' for details.\n"
     ]
    }
   ],
   "source": [
    "!git push -u origin main"
   ]
  },
  {
   "cell_type": "code",
   "execution_count": null,
   "id": "6fe5e79e",
   "metadata": {},
   "outputs": [],
   "source": []
  }
 ],
 "metadata": {
  "kernelspec": {
   "display_name": "Python 3 (ipykernel)",
   "language": "python",
   "name": "python3"
  },
  "language_info": {
   "codemirror_mode": {
    "name": "ipython",
    "version": 3
   },
   "file_extension": ".py",
   "mimetype": "text/x-python",
   "name": "python",
   "nbconvert_exporter": "python",
   "pygments_lexer": "ipython3",
   "version": "3.9.13"
  }
 },
 "nbformat": 4,
 "nbformat_minor": 5
}
