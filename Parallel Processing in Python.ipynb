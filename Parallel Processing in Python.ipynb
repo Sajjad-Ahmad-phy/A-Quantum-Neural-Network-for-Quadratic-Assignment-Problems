{
 "cells": [
  {
   "cell_type": "code",
   "execution_count": 2,
   "id": "7e8c72a1",
   "metadata": {},
   "outputs": [],
   "source": [
    "import multiprocessing as mp\n",
    "import numpy as np\n",
    "import time"
   ]
  },
  {
   "cell_type": "code",
   "execution_count": 3,
   "id": "3bfcb916",
   "metadata": {},
   "outputs": [],
   "source": [
    "def random_square(seed):\n",
    "    np.random.seed(seed)\n",
    "    random_num = np.random.randint(0, 10)\n",
    "    return random_num**2"
   ]
  },
  {
   "cell_type": "code",
   "execution_count": null,
   "id": "398257ff",
   "metadata": {},
   "outputs": [],
   "source": []
  },
  {
   "cell_type": "markdown",
   "id": "b71bf154",
   "metadata": {},
   "source": [
    "#### Serial Version"
   ]
  },
  {
   "cell_type": "code",
   "execution_count": 6,
   "id": "a562c212",
   "metadata": {},
   "outputs": [
    {
     "name": "stdout",
     "output_type": "stream",
     "text": [
      "Execution time 15.164503574371338 s\n"
     ]
    }
   ],
   "source": [
    "t0 = time.time()\n",
    "results = []\n",
    "for i in range(1000000): \n",
    "    results.append(random_square(i))\n",
    "t1 = time.time()\n",
    "print(f'Execution time {t1 - t0} s')"
   ]
  },
  {
   "cell_type": "markdown",
   "id": "241dee2e",
   "metadata": {},
   "source": [
    "### Parallel processing"
   ]
  },
  {
   "cell_type": "code",
   "execution_count": null,
   "id": "ae9fee0a",
   "metadata": {},
   "outputs": [],
   "source": [
    "if __name__ == '__main__':\n",
    "    t0 = time.time()\n",
    "    n_cpu = mp.cpu_count()-1\n",
    "    pool = mp.Pool(processes=n_cpu)\n",
    "    results = [pool.map(random_square, range(10))]\n",
    "    t1 = time.time()\n",
    "    print(f'Execution time {t1 - t0} s')"
   ]
  }
 ],
 "metadata": {
  "kernelspec": {
   "display_name": "Python 3 (ipykernel)",
   "language": "python",
   "name": "python3"
  },
  "language_info": {
   "codemirror_mode": {
    "name": "ipython",
    "version": 3
   },
   "file_extension": ".py",
   "mimetype": "text/x-python",
   "name": "python",
   "nbconvert_exporter": "python",
   "pygments_lexer": "ipython3",
   "version": "3.9.13"
  }
 },
 "nbformat": 4,
 "nbformat_minor": 5
}
