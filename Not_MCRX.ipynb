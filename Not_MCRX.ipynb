{
 "cells": [
  {
   "cell_type": "code",
   "execution_count": 2,
   "id": "d01a240d",
   "metadata": {},
   "outputs": [
    {
     "data": {
      "image/png": "[encoded data removed]",
      "text/plain": [
       "<Figure size 203.885x367.889 with 1 Axes>"
      ]
     },
     "execution_count": 2,
     "metadata": {},
     "output_type": "execute_result"
    }
   ],
   "source": [
    "from qiskit import QuantumCircuit\n",
    "from qiskit.circuit.library import MCXGate\n",
    "qc = QuantumCircuit(4)\n",
    "\n",
    "qc.append(MCXGate(3, ctrl_state='000'), [2, 1, 3, 0])\n",
    "qc.draw('mpl')"
   ]
  },
  {
   "cell_type": "code",
   "execution_count": 25,
   "id": "ba32c739",
   "metadata": {},
   "outputs": [
    {
     "data": {
      "image/png": "[encoded data removed]",
      "text/plain": [
       "<Figure size 203.885x367.889 with 1 Axes>"
      ]
     },
     "execution_count": 25,
     "metadata": {},
     "output_type": "execute_result"
    }
   ],
   "source": [
    "from qiskit import QuantumCircuit\n",
    "from qiskit.circuit import Parameter\n",
    "from qiskit.circuit.library.standard_gates import RXGate\n",
    "\n",
    "# Define your unbound parameter\n",
    "beta_para = Parameter(r'$\\beta$') \n",
    "\n",
    "# Create a quantum circuit\n",
    "qc = QuantumCircuit(4)\n",
    "\n",
    "# Create a controlled RX gate with the unbound parameter\n",
    "MCRX = RXGate(beta_para).control(num_ctrl_qubits=3, ctrl_state='000')\n",
    "\n",
    "# Append the gate to the circuit\n",
    "qc.append(MCRX, [1, 2, 3, 0])\n",
    "\n",
    "# Visualize the circuit\n",
    "qc.draw('mpl')"
   ]
  },
  {
   "cell_type": "code",
   "execution_count": 22,
   "id": "1c22d131",
   "metadata": {},
   "outputs": [
    {
     "ename": "TypeError",
     "evalue": "mcrx() takes from 4 to 5 positional arguments but 6 were given",
     "output_type": "error",
     "traceback": [
      "\u001b[1;31m---------------------------------------------------------------------------\u001b[0m",
      "\u001b[1;31mTypeError\u001b[0m                                 Traceback (most recent call last)",
      "\u001b[1;32m~\\AppData\\Local\\Temp\\ipykernel_15080\\1743352292.py\u001b[0m in \u001b[0;36m<module>\u001b[1;34m\u001b[0m\n\u001b[0;32m     25\u001b[0m \u001b[0mctrl_state\u001b[0m \u001b[1;33m=\u001b[0m \u001b[1;34m'000'\u001b[0m\u001b[1;33m\u001b[0m\u001b[1;33m\u001b[0m\u001b[0m\n\u001b[0;32m     26\u001b[0m \u001b[0mcustom_gate\u001b[0m \u001b[1;33m=\u001b[0m \u001b[0mControlledRXGateWithParameter\u001b[0m\u001b[1;33m(\u001b[0m\u001b[0mnum_ctrl_qubits\u001b[0m\u001b[1;33m,\u001b[0m \u001b[0mctrl_state\u001b[0m\u001b[1;33m,\u001b[0m \u001b[0mbeta_para\u001b[0m\u001b[1;33m)\u001b[0m\u001b[1;33m\u001b[0m\u001b[1;33m\u001b[0m\u001b[0m\n\u001b[1;32m---> 27\u001b[1;33m \u001b[0mMCRX\u001b[0m \u001b[1;33m=\u001b[0m \u001b[0mcustom_gate\u001b[0m\u001b[1;33m.\u001b[0m\u001b[0mconstruct_circuit\u001b[0m\u001b[1;33m(\u001b[0m\u001b[1;33m)\u001b[0m\u001b[1;33m\u001b[0m\u001b[1;33m\u001b[0m\u001b[0m\n\u001b[0m\u001b[0;32m     28\u001b[0m \u001b[1;33m\u001b[0m\u001b[0m\n\u001b[0;32m     29\u001b[0m \u001b[1;31m# Append the gate to the circuit\u001b[0m\u001b[1;33m\u001b[0m\u001b[1;33m\u001b[0m\u001b[0m\n",
      "\u001b[1;32m~\\AppData\\Local\\Temp\\ipykernel_15080\\1743352292.py\u001b[0m in \u001b[0;36mconstruct_circuit\u001b[1;34m(self)\u001b[0m\n\u001b[0;32m     12\u001b[0m     \u001b[1;32mdef\u001b[0m \u001b[0mconstruct_circuit\u001b[0m\u001b[1;33m(\u001b[0m\u001b[0mself\u001b[0m\u001b[1;33m)\u001b[0m\u001b[1;33m:\u001b[0m\u001b[1;33m\u001b[0m\u001b[1;33m\u001b[0m\u001b[0m\n\u001b[0;32m     13\u001b[0m         \u001b[0mqc\u001b[0m \u001b[1;33m=\u001b[0m \u001b[0mQuantumCircuit\u001b[0m\u001b[1;33m(\u001b[0m\u001b[0mself\u001b[0m\u001b[1;33m.\u001b[0m\u001b[0mnum_ctrl_qubits\u001b[0m \u001b[1;33m+\u001b[0m \u001b[1;36m1\u001b[0m\u001b[1;33m)\u001b[0m\u001b[1;33m\u001b[0m\u001b[1;33m\u001b[0m\u001b[0m\n\u001b[1;32m---> 14\u001b[1;33m         \u001b[0mqc\u001b[0m\u001b[1;33m.\u001b[0m\u001b[0mmcrx\u001b[0m\u001b[1;33m(\u001b[0m\u001b[0mself\u001b[0m\u001b[1;33m.\u001b[0m\u001b[0mtheta\u001b[0m\u001b[1;33m,\u001b[0m \u001b[0mlist\u001b[0m\u001b[1;33m(\u001b[0m\u001b[0mrange\u001b[0m\u001b[1;33m(\u001b[0m\u001b[0mself\u001b[0m\u001b[1;33m.\u001b[0m\u001b[0mnum_ctrl_qubits\u001b[0m\u001b[1;33m)\u001b[0m\u001b[1;33m)\u001b[0m\u001b[1;33m,\u001b[0m \u001b[0mself\u001b[0m\u001b[1;33m.\u001b[0m\u001b[0mnum_ctrl_qubits\u001b[0m\u001b[1;33m,\u001b[0m \u001b[0mself\u001b[0m\u001b[1;33m.\u001b[0m\u001b[0mnum_ctrl_qubits\u001b[0m\u001b[1;33m,\u001b[0m \u001b[0mself\u001b[0m\u001b[1;33m.\u001b[0m\u001b[0mctrl_state\u001b[0m\u001b[1;33m)\u001b[0m\u001b[1;33m\u001b[0m\u001b[1;33m\u001b[0m\u001b[0m\n\u001b[0m\u001b[0;32m     15\u001b[0m         \u001b[1;32mreturn\u001b[0m \u001b[0mqc\u001b[0m\u001b[1;33m\u001b[0m\u001b[1;33m\u001b[0m\u001b[0m\n\u001b[0;32m     16\u001b[0m \u001b[1;33m\u001b[0m\u001b[0m\n",
      "\u001b[1;31mTypeError\u001b[0m: mcrx() takes from 4 to 5 positional arguments but 6 were given"
     ]
    }
   ],
   "source": [
    "import numpy as np\n",
    "from qiskit import QuantumCircuit\n",
    "from qiskit.circuit import Parameter\n",
    "from qiskit.circuit.library.standard_gates import RXGate\n",
    "\n",
    "class ControlledRXGateWithParameter:\n",
    "    def __init__(self, num_ctrl_qubits, ctrl_state, theta):\n",
    "        self.num_ctrl_qubits = num_ctrl_qubits\n",
    "        self.ctrl_state = ctrl_state\n",
    "        self.theta = theta\n",
    "\n",
    "    def construct_circuit(self):\n",
    "        qc = QuantumCircuit(self.num_ctrl_qubits + 1)\n",
    "        qc.mcrx(self.theta, list(range(self.num_ctrl_qubits)), self.num_ctrl_qubits, self.num_ctrl_qubits, self.ctrl_state)\n",
    "        return qc\n",
    "\n",
    "# Define your unbound parameter\n",
    "beta_para = Parameter(r'$\\beta$') \n",
    "\n",
    "# Create a quantum circuit\n",
    "qc = QuantumCircuit(4)\n",
    "\n",
    "# Create a controlled RX gate with the unbound parameter\n",
    "num_ctrl_qubits = 3\n",
    "ctrl_state = '000'\n",
    "custom_gate = ControlledRXGateWithParameter(num_ctrl_qubits, ctrl_state, beta_para)\n",
    "MCRX = custom_gate.construct_circuit()\n",
    "\n",
    "# Append the gate to the circuit\n",
    "qc.compose(MCRX, qubits=[1, 3, 2, 0], inplace=True)\n",
    "\n",
    "# Visualize the circuit\n",
    "qc.draw('mpl')\n"
   ]
  },
  {
   "cell_type": "code",
   "execution_count": 2,
   "id": "c6329f0c",
   "metadata": {},
   "outputs": [],
   "source": [
    "beta_para = Parameter(r'$\\beta$')   # Constraint layers Parameter\n",
    "\n"
   ]
  },
  {
   "cell_type": "code",
   "execution_count": 4,
   "id": "3838540a",
   "metadata": {},
   "outputs": [
    {
     "data": {
      "image/png": "[encoded data removed]",
      "text/plain": [
       "<Figure size 203.885x367.889 with 1 Axes>"
      ]
     },
     "execution_count": 4,
     "metadata": {},
     "output_type": "execute_result"
    }
   ],
   "source": [
    "from qiskit.circuit.library.standard_gates import RYGate\n",
    "qc=QuantumCircuit(4)\n",
    "a=Parameter('a')\n",
    "\n",
    "ry = RYGate(a)\n",
    "for qbit in range(4):\n",
    "    qc.append(ry, [qbit])\n",
    "\n",
    "qc.draw('mpl')"
   ]
  },
  {
   "cell_type": "code",
   "execution_count": null,
   "id": "a7350fde",
   "metadata": {},
   "outputs": [],
   "source": [
    "import numpy as np\n",
    "import ot\n",
    "\n",
    "# Define the size of marginals\n",
    "n = matrix.shape[0]\n",
    "m = matrix.shape[1]\n",
    "\n",
    "# Define your input matrix\n",
    "matrix = np.array([[1, 1, 0],\n",
    "                   [1, 0, 1],\n",
    "                   [0, 1, 1]])\n",
    "\n",
    "# Define the matching constraint\n",
    "m_c = np.array([[0, 1, 0],\n",
    "                [1, 0, 0],\n",
    "                [0, 0, 1]])\n",
    "\n",
    "# Define the cost matrix with the matching constraint\n",
    "cost_matrix = np.multiply(matrix, m_c) # Element-wise multiplication to zero out non-matching elements\n",
    "\n",
    "# Apply Sinkhorn algorithm to converge to a doubly stochastic matrix with the matching constraint\n",
    "m_ds = ot.sinkhorn(np.ones(n) / n, np.ones(m) / m, cost_matrix, reg=0.01)\n",
    "\n",
    "m_ds"
   ]
  },
  {
   "cell_type": "code",
   "execution_count": null,
   "id": "0852429d",
   "metadata": {},
   "outputs": [],
   "source": []
  },
  {
   "cell_type": "code",
   "execution_count": null,
   "id": "5940f927",
   "metadata": {},
   "outputs": [],
   "source": []
  }
 ],
 "metadata": {
  "kernelspec": {
   "display_name": "Python 3 (ipykernel)",
   "language": "python",
   "name": "python3"
  },
  "language_info": {
   "codemirror_mode": {
    "name": "ipython",
    "version": 3
   },
   "file_extension": ".py",
   "mimetype": "text/x-python",
   "name": "python",
   "nbconvert_exporter": "python",
   "pygments_lexer": "ipython3",
   "version": "3.9.13"
  }
 },
 "nbformat": 4,
 "nbformat_minor": 5
}
