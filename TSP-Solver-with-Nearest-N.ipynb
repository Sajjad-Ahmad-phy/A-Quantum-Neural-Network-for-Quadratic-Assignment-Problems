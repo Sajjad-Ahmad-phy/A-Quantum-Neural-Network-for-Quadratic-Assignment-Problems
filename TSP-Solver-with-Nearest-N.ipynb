{
 "cells": [
  {
   "cell_type": "code",
   "execution_count": 40,
   "id": "fc21d8f1",
   "metadata": {},
   "outputs": [],
   "source": [
    "import numpy as np\n",
    "import openpyxl\n",
    "import ast"
   ]
  },
  {
   "cell_type": "code",
   "execution_count": 36,
   "id": "b4b4a0e3",
   "metadata": {},
   "outputs": [],
   "source": [
    "path = \"C:\\\\Users\\\\LENOVO\\\\OneDrive - National University of Sciences & Technology\\\\Academia\\\\FYP\\\\TSP-4.xlsx\"\n",
    "\n",
    "wb = openpyxl.load_workbook(path)\n",
    "ws = wb.active\n"
   ]
  },
  {
   "cell_type": "code",
   "execution_count": null,
   "id": "4d3b609d",
   "metadata": {},
   "outputs": [],
   "source": []
  },
  {
   "cell_type": "code",
   "execution_count": 11,
   "id": "b6808481",
   "metadata": {},
   "outputs": [],
   "source": [
    "# Define the Nearest Neighbor Algorithm\n",
    "def nearest_neighbor(distances):\n",
    "    n = distances.shape[0]\n",
    "    route = [0] # Start at city A\n",
    "    visited = set([0])\n",
    "    while len(visited) < n:\n",
    "        current_city = route[-1]\n",
    "        nearest_city = min([(i, distances[current_city][i]) for i in range(n) if i not in visited], key=lambda x: x[1])[0]\n",
    "        route.append(nearest_city)\n",
    "        visited.add(nearest_city)\n",
    "    route.append(0) # Return to city A\n",
    "    return route"
   ]
  },
  {
   "cell_type": "code",
   "execution_count": null,
   "id": "4f52e9f8",
   "metadata": {},
   "outputs": [],
   "source": []
  },
  {
   "cell_type": "code",
   "execution_count": 37,
   "id": "5916e807",
   "metadata": {},
   "outputs": [],
   "source": [
    "def partial_permutation_matrix(num_nodes, indices):\n",
    "    \n",
    "    P = np.eye(num_nodes)\n",
    "    P = P[:, indices]\n",
    "    return P"
   ]
  },
  {
   "cell_type": "code",
   "execution_count": 38,
   "id": "10cd531d",
   "metadata": {},
   "outputs": [],
   "source": [
    "def test(m1, m2):\n",
    "    \n",
    "    equal = True\n",
    "    for i in range(len(m1)):\n",
    "        for j in range(len(m1[0])):\n",
    "            if m1[i][j] != m2[i][j]:\n",
    "                equal = False\n",
    "                break\n",
    "                \n",
    "    return equal"
   ]
  },
  {
   "cell_type": "code",
   "execution_count": null,
   "id": "2671a1ac",
   "metadata": {},
   "outputs": [],
   "source": []
  },
  {
   "cell_type": "code",
   "execution_count": 42,
   "id": "6052ae7d",
   "metadata": {},
   "outputs": [
    {
     "name": "stdout",
     "output_type": "stream",
     "text": [
      "False\n",
      "False\n",
      "False\n",
      "False\n",
      "True\n",
      "False\n",
      "False\n",
      "True\n",
      "False\n",
      "True\n",
      "False\n",
      "False\n",
      "False\n",
      "False\n",
      "False\n",
      "True\n",
      "False\n",
      "False\n",
      "False\n",
      "False\n"
     ]
    }
   ],
   "source": [
    "for i in range(20):\n",
    "    distance_matrix =np.array(ast.literal_eval(ws[f'A{i+2}'].value))\n",
    "    m2 = np.array(ast.literal_eval(ws[f'D{i+2}'].value))\n",
    "    route = nearest_neighbor(distance_matrix)\n",
    "    m1 = partial_permutation_matrix(4, route[:-1])\n",
    "    print(test(m1, m2))"
   ]
  },
  {
   "cell_type": "code",
   "execution_count": null,
   "id": "aaa0af89",
   "metadata": {},
   "outputs": [],
   "source": []
  },
  {
   "cell_type": "code",
   "execution_count": null,
   "id": "c55076d5",
   "metadata": {},
   "outputs": [],
   "source": []
  },
  {
   "cell_type": "code",
   "execution_count": null,
   "id": "6c6abb9d",
   "metadata": {},
   "outputs": [],
   "source": []
  }
 ],
 "metadata": {
  "kernelspec": {
   "display_name": "Python 3 (ipykernel)",
   "language": "python",
   "name": "python3"
  },
  "language_info": {
   "codemirror_mode": {
    "name": "ipython",
    "version": 3
   },
   "file_extension": ".py",
   "mimetype": "text/x-python",
   "name": "python",
   "nbconvert_exporter": "python",
   "pygments_lexer": "ipython3",
   "version": "3.9.13"
  }
 },
 "nbformat": 4,
 "nbformat_minor": 5
}
